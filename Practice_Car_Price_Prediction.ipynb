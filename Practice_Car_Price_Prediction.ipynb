{
  "nbformat": 4,
  "nbformat_minor": 0,
  "metadata": {
    "kernelspec": {
      "display_name": "Python 3",
      "language": "python",
      "name": "python3"
    },
    "language_info": {
      "codemirror_mode": {
        "name": "ipython",
        "version": 3
      },
      "file_extension": ".py",
      "mimetype": "text/x-python",
      "name": "python",
      "nbconvert_exporter": "python",
      "pygments_lexer": "ipython3",
      "version": "3.8.3"
    },
    "colab": {
      "name": "Practice_Car_Price_Prediction.ipynb",
      "provenance": [],
      "collapsed_sections": []
    }
  },
  "cells": [
    {
      "cell_type": "markdown",
      "metadata": {
        "id": "UXJRVFoChivo"
      },
      "source": [
        "## Car Price Prediction using Linear, Ridge and Lasso Regression\n",
        "\n",
        "The solution is divided into the following sections: \n",
        "- Data understanding and exploration\n",
        "- Data cleaning\n",
        "- Data preparation\n",
        "- Model building and evaluation\n"
      ]
    },
    {
      "cell_type": "markdown",
      "metadata": {
        "id": "C2WCr1WHhiv0"
      },
      "source": [
        "### 1. Data Understanding and Exploration\n",
        "\n",
        "Let's first have a look at the dataset and understand the size, attribute names etc."
      ]
    },
    {
      "cell_type": "code",
      "metadata": {
        "id": "JneupLcWhiv1"
      },
      "source": [
        "import numpy as np\n",
        "import pandas as pd\n",
        "import matplotlib.pyplot as plt\n",
        "import seaborn as sns\n",
        "from sklearn import linear_model, metrics\n",
        "from sklearn.linear_model import LinearRegression\n",
        "from sklearn.linear_model import Ridge\n",
        "from sklearn.linear_model import Lasso\n",
        "from sklearn.model_selection import GridSearchCV\n",
        "from sklearn.metrics import mean_squared_error, r2_score\n",
        "\n",
        "import os\n",
        "\n",
        "# hide warnings\n",
        "import warnings\n",
        "warnings.filterwarnings('ignore')\n"
      ],
      "execution_count": 1,
      "outputs": []
    },
    {
      "cell_type": "code",
      "metadata": {
        "id": "Owplbz5lhiv2"
      },
      "source": [
        "# reading the dataset\n",
        "cars = pd.read_csv(\"CarPrice_Assignment.csv\")"
      ],
      "execution_count": 2,
      "outputs": []
    },
    {
      "cell_type": "code",
      "metadata": {
        "id": "kw7wTFqnhiv3",
        "colab": {
          "base_uri": "https://localhost:8080/"
        },
        "outputId": "aaefb7b1-4555-401a-a72e-cc65d6cc5828"
      },
      "source": [
        "# summary of the dataset: 205 rows, 26 columns, no null values\n",
        "print(cars.info())"
      ],
      "execution_count": 3,
      "outputs": [
        {
          "output_type": "stream",
          "text": [
            "<class 'pandas.core.frame.DataFrame'>\n",
            "RangeIndex: 205 entries, 0 to 204\n",
            "Data columns (total 26 columns):\n",
            " #   Column            Non-Null Count  Dtype  \n",
            "---  ------            --------------  -----  \n",
            " 0   car_ID            205 non-null    int64  \n",
            " 1   symboling         205 non-null    int64  \n",
            " 2   CarName           205 non-null    object \n",
            " 3   fueltype          205 non-null    object \n",
            " 4   aspiration        205 non-null    object \n",
            " 5   doornumber        205 non-null    object \n",
            " 6   carbody           205 non-null    object \n",
            " 7   drivewheel        205 non-null    object \n",
            " 8   enginelocation    205 non-null    object \n",
            " 9   wheelbase         205 non-null    float64\n",
            " 10  carlength         205 non-null    float64\n",
            " 11  carwidth          205 non-null    float64\n",
            " 12  carheight         205 non-null    float64\n",
            " 13  curbweight        205 non-null    int64  \n",
            " 14  enginetype        205 non-null    object \n",
            " 15  cylindernumber    205 non-null    object \n",
            " 16  enginesize        205 non-null    int64  \n",
            " 17  fuelsystem        205 non-null    object \n",
            " 18  boreratio         205 non-null    float64\n",
            " 19  stroke            205 non-null    float64\n",
            " 20  compressionratio  205 non-null    float64\n",
            " 21  horsepower        205 non-null    int64  \n",
            " 22  peakrpm           205 non-null    int64  \n",
            " 23  citympg           205 non-null    int64  \n",
            " 24  highwaympg        205 non-null    int64  \n",
            " 25  price             205 non-null    float64\n",
            "dtypes: float64(8), int64(8), object(10)\n",
            "memory usage: 41.8+ KB\n",
            "None\n"
          ],
          "name": "stdout"
        }
      ]
    },
    {
      "cell_type": "code",
      "metadata": {
        "id": "j0fOS89lhiv5",
        "colab": {
          "base_uri": "https://localhost:8080/",
          "height": 267
        },
        "outputId": "bc9375b1-bce0-4161-9bfc-29e9bde72c43"
      },
      "source": [
        "# head\n",
        "cars.head()"
      ],
      "execution_count": 4,
      "outputs": [
        {
          "output_type": "execute_result",
          "data": {
            "text/html": [
              "<div>\n",
              "<style scoped>\n",
              "    .dataframe tbody tr th:only-of-type {\n",
              "        vertical-align: middle;\n",
              "    }\n",
              "\n",
              "    .dataframe tbody tr th {\n",
              "        vertical-align: top;\n",
              "    }\n",
              "\n",
              "    .dataframe thead th {\n",
              "        text-align: right;\n",
              "    }\n",
              "</style>\n",
              "<table border=\"1\" class=\"dataframe\">\n",
              "  <thead>\n",
              "    <tr style=\"text-align: right;\">\n",
              "      <th></th>\n",
              "      <th>car_ID</th>\n",
              "      <th>symboling</th>\n",
              "      <th>CarName</th>\n",
              "      <th>fueltype</th>\n",
              "      <th>aspiration</th>\n",
              "      <th>doornumber</th>\n",
              "      <th>carbody</th>\n",
              "      <th>drivewheel</th>\n",
              "      <th>enginelocation</th>\n",
              "      <th>wheelbase</th>\n",
              "      <th>carlength</th>\n",
              "      <th>carwidth</th>\n",
              "      <th>carheight</th>\n",
              "      <th>curbweight</th>\n",
              "      <th>enginetype</th>\n",
              "      <th>cylindernumber</th>\n",
              "      <th>enginesize</th>\n",
              "      <th>fuelsystem</th>\n",
              "      <th>boreratio</th>\n",
              "      <th>stroke</th>\n",
              "      <th>compressionratio</th>\n",
              "      <th>horsepower</th>\n",
              "      <th>peakrpm</th>\n",
              "      <th>citympg</th>\n",
              "      <th>highwaympg</th>\n",
              "      <th>price</th>\n",
              "    </tr>\n",
              "  </thead>\n",
              "  <tbody>\n",
              "    <tr>\n",
              "      <th>0</th>\n",
              "      <td>1</td>\n",
              "      <td>3</td>\n",
              "      <td>alfa-romero giulia</td>\n",
              "      <td>gas</td>\n",
              "      <td>std</td>\n",
              "      <td>two</td>\n",
              "      <td>convertible</td>\n",
              "      <td>rwd</td>\n",
              "      <td>front</td>\n",
              "      <td>88.6</td>\n",
              "      <td>168.8</td>\n",
              "      <td>64.1</td>\n",
              "      <td>48.8</td>\n",
              "      <td>2548</td>\n",
              "      <td>dohc</td>\n",
              "      <td>four</td>\n",
              "      <td>130</td>\n",
              "      <td>mpfi</td>\n",
              "      <td>3.47</td>\n",
              "      <td>2.68</td>\n",
              "      <td>9.0</td>\n",
              "      <td>111</td>\n",
              "      <td>5000</td>\n",
              "      <td>21</td>\n",
              "      <td>27</td>\n",
              "      <td>13495.0</td>\n",
              "    </tr>\n",
              "    <tr>\n",
              "      <th>1</th>\n",
              "      <td>2</td>\n",
              "      <td>3</td>\n",
              "      <td>alfa-romero stelvio</td>\n",
              "      <td>gas</td>\n",
              "      <td>std</td>\n",
              "      <td>two</td>\n",
              "      <td>convertible</td>\n",
              "      <td>rwd</td>\n",
              "      <td>front</td>\n",
              "      <td>88.6</td>\n",
              "      <td>168.8</td>\n",
              "      <td>64.1</td>\n",
              "      <td>48.8</td>\n",
              "      <td>2548</td>\n",
              "      <td>dohc</td>\n",
              "      <td>four</td>\n",
              "      <td>130</td>\n",
              "      <td>mpfi</td>\n",
              "      <td>3.47</td>\n",
              "      <td>2.68</td>\n",
              "      <td>9.0</td>\n",
              "      <td>111</td>\n",
              "      <td>5000</td>\n",
              "      <td>21</td>\n",
              "      <td>27</td>\n",
              "      <td>16500.0</td>\n",
              "    </tr>\n",
              "    <tr>\n",
              "      <th>2</th>\n",
              "      <td>3</td>\n",
              "      <td>1</td>\n",
              "      <td>alfa-romero Quadrifoglio</td>\n",
              "      <td>gas</td>\n",
              "      <td>std</td>\n",
              "      <td>two</td>\n",
              "      <td>hatchback</td>\n",
              "      <td>rwd</td>\n",
              "      <td>front</td>\n",
              "      <td>94.5</td>\n",
              "      <td>171.2</td>\n",
              "      <td>65.5</td>\n",
              "      <td>52.4</td>\n",
              "      <td>2823</td>\n",
              "      <td>ohcv</td>\n",
              "      <td>six</td>\n",
              "      <td>152</td>\n",
              "      <td>mpfi</td>\n",
              "      <td>2.68</td>\n",
              "      <td>3.47</td>\n",
              "      <td>9.0</td>\n",
              "      <td>154</td>\n",
              "      <td>5000</td>\n",
              "      <td>19</td>\n",
              "      <td>26</td>\n",
              "      <td>16500.0</td>\n",
              "    </tr>\n",
              "    <tr>\n",
              "      <th>3</th>\n",
              "      <td>4</td>\n",
              "      <td>2</td>\n",
              "      <td>audi 100 ls</td>\n",
              "      <td>gas</td>\n",
              "      <td>std</td>\n",
              "      <td>four</td>\n",
              "      <td>sedan</td>\n",
              "      <td>fwd</td>\n",
              "      <td>front</td>\n",
              "      <td>99.8</td>\n",
              "      <td>176.6</td>\n",
              "      <td>66.2</td>\n",
              "      <td>54.3</td>\n",
              "      <td>2337</td>\n",
              "      <td>ohc</td>\n",
              "      <td>four</td>\n",
              "      <td>109</td>\n",
              "      <td>mpfi</td>\n",
              "      <td>3.19</td>\n",
              "      <td>3.40</td>\n",
              "      <td>10.0</td>\n",
              "      <td>102</td>\n",
              "      <td>5500</td>\n",
              "      <td>24</td>\n",
              "      <td>30</td>\n",
              "      <td>13950.0</td>\n",
              "    </tr>\n",
              "    <tr>\n",
              "      <th>4</th>\n",
              "      <td>5</td>\n",
              "      <td>2</td>\n",
              "      <td>audi 100ls</td>\n",
              "      <td>gas</td>\n",
              "      <td>std</td>\n",
              "      <td>four</td>\n",
              "      <td>sedan</td>\n",
              "      <td>4wd</td>\n",
              "      <td>front</td>\n",
              "      <td>99.4</td>\n",
              "      <td>176.6</td>\n",
              "      <td>66.4</td>\n",
              "      <td>54.3</td>\n",
              "      <td>2824</td>\n",
              "      <td>ohc</td>\n",
              "      <td>five</td>\n",
              "      <td>136</td>\n",
              "      <td>mpfi</td>\n",
              "      <td>3.19</td>\n",
              "      <td>3.40</td>\n",
              "      <td>8.0</td>\n",
              "      <td>115</td>\n",
              "      <td>5500</td>\n",
              "      <td>18</td>\n",
              "      <td>22</td>\n",
              "      <td>17450.0</td>\n",
              "    </tr>\n",
              "  </tbody>\n",
              "</table>\n",
              "</div>"
            ],
            "text/plain": [
              "   car_ID  symboling                   CarName  ... citympg highwaympg    price\n",
              "0       1          3        alfa-romero giulia  ...      21         27  13495.0\n",
              "1       2          3       alfa-romero stelvio  ...      21         27  16500.0\n",
              "2       3          1  alfa-romero Quadrifoglio  ...      19         26  16500.0\n",
              "3       4          2               audi 100 ls  ...      24         30  13950.0\n",
              "4       5          2                audi 100ls  ...      18         22  17450.0\n",
              "\n",
              "[5 rows x 26 columns]"
            ]
          },
          "metadata": {
            "tags": []
          },
          "execution_count": 4
        }
      ]
    },
    {
      "cell_type": "markdown",
      "metadata": {
        "id": "wg_CQgLwhiv5"
      },
      "source": [
        "#### Understanding the Data Dictionary\n",
        "\n",
        "The data dictionary contains the meaning of various attributes; some non-obvious ones are:"
      ]
    },
    {
      "cell_type": "code",
      "metadata": {
        "id": "HmIgoucOhiv6",
        "colab": {
          "base_uri": "https://localhost:8080/"
        },
        "outputId": "311c29f9-b7b6-4028-cc88-f0172dbac684"
      },
      "source": [
        "# symboling: -2 (least risky) to +3 most risky\n",
        "# Most cars are 0,1,2\n",
        "cars['symboling'].astype('category').value_counts()"
      ],
      "execution_count": 5,
      "outputs": [
        {
          "output_type": "execute_result",
          "data": {
            "text/plain": [
              "0     67\n",
              "1     54\n",
              "2     32\n",
              "3     27\n",
              "-1    22\n",
              "-2     3\n",
              "Name: symboling, dtype: int64"
            ]
          },
          "metadata": {
            "tags": []
          },
          "execution_count": 5
        }
      ]
    },
    {
      "cell_type": "code",
      "metadata": {
        "id": "pWsiRt8bhiv7",
        "colab": {
          "base_uri": "https://localhost:8080/"
        },
        "outputId": "443d4d9f-1806-40fa-b4b1-3e782151f96b"
      },
      "source": [
        "# aspiration: An (internal combustion) engine property showing \n",
        "# whether the oxygen intake is through standard (atmospheric pressure)\n",
        "# or through turbocharging (pressurised oxygen intake)\n",
        "\n",
        "cars['aspiration'].astype('category').value_counts()"
      ],
      "execution_count": 6,
      "outputs": [
        {
          "output_type": "execute_result",
          "data": {
            "text/plain": [
              "std      168\n",
              "turbo     37\n",
              "Name: aspiration, dtype: int64"
            ]
          },
          "metadata": {
            "tags": []
          },
          "execution_count": 6
        }
      ]
    },
    {
      "cell_type": "code",
      "metadata": {
        "id": "_OmJr0Oyhiv7",
        "colab": {
          "base_uri": "https://localhost:8080/"
        },
        "outputId": "f345d9cf-ce9a-4cbe-c499-2cd4aaff91cb"
      },
      "source": [
        "# drivewheel: frontwheel, rearwheel or four-wheel drive \n",
        "cars['drivewheel'].astype('category').value_counts()"
      ],
      "execution_count": 7,
      "outputs": [
        {
          "output_type": "execute_result",
          "data": {
            "text/plain": [
              "fwd    120\n",
              "rwd     76\n",
              "4wd      9\n",
              "Name: drivewheel, dtype: int64"
            ]
          },
          "metadata": {
            "tags": []
          },
          "execution_count": 7
        }
      ]
    },
    {
      "cell_type": "code",
      "metadata": {
        "id": "ccViBAjihiv8",
        "colab": {
          "base_uri": "https://localhost:8080/",
          "height": 279
        },
        "outputId": "df031270-78ef-4832-f5f8-be3d51692600"
      },
      "source": [
        "# wheelbase: distance between centre of front and rarewheels\n",
        "sns.distplot(cars['wheelbase'])\n",
        "plt.show()"
      ],
      "execution_count": 8,
      "outputs": [
        {
          "output_type": "display_data",
          "data": {
            "image/png": "[encoded data removed]",
            "text/plain": [
              "<Figure size 432x288 with 1 Axes>"
            ]
          },
          "metadata": {
            "tags": [],
            "needs_background": "light"
          }
        }
      ]
    },
    {
      "cell_type": "code",
      "metadata": {
        "id": "KZ4UtJlqhiv8",
        "colab": {
          "base_uri": "https://localhost:8080/",
          "height": 279
        },
        "outputId": "90d77789-16c6-404c-9911-ddbcbeea7eb9"
      },
      "source": [
        "# curbweight: weight of car without occupants or baggage\n",
        "sns.distplot(cars['curbweight'])\n",
        "plt.show()"
      ],
      "execution_count": 9,
      "outputs": [
        {
          "output_type": "display_data",
          "data": {
            "image/png": "[encoded data removed]",
            "text/plain": [
              "<Figure size 432x288 with 1 Axes>"
            ]
          },
          "metadata": {
            "tags": [],
            "needs_background": "light"
          }
        }
      ]
    },
    {
      "cell_type": "code",
      "metadata": {
        "id": "eg8tdRYphiv9",
        "colab": {
          "base_uri": "https://localhost:8080/",
          "height": 279
        },
        "outputId": "17e05d35-ac6c-4f57-dcbe-8ec45b974028"
      },
      "source": [
        "# stroke: volume of the engine (the distance traveled by the \n",
        "# piston in each cycle)\n",
        "sns.distplot(cars['stroke'])\n",
        "plt.show()"
      ],
      "execution_count": 10,
      "outputs": [
        {
          "output_type": "display_data",
          "data": {
            "image/png": "[encoded data removed]",
            "text/plain": [
              "<Figure size 432x288 with 1 Axes>"
            ]
          },
          "metadata": {
            "tags": [],
            "needs_background": "light"
          }
        }
      ]
    },
    {
      "cell_type": "code",
      "metadata": {
        "id": "vpGRIdN3hiv9",
        "colab": {
          "base_uri": "https://localhost:8080/",
          "height": 279
        },
        "outputId": "f93524bf-11ab-44a7-dcd5-c2e69c9e01f0"
      },
      "source": [
        "# compression ration: ratio of volume of compression chamber \n",
        "# at largest capacity to least capacity\n",
        "sns.distplot(cars['compressionratio'])\n",
        "plt.show()"
      ],
      "execution_count": 11,
      "outputs": [
        {
          "output_type": "display_data",
          "data": {
            "image/png": "[encoded data removed]",
            "text/plain": [
              "<Figure size 432x288 with 1 Axes>"
            ]
          },
          "metadata": {
            "tags": [],
            "needs_background": "light"
          }
        }
      ]
    },
    {
      "cell_type": "code",
      "metadata": {
        "id": "KQTy_Hgchiv-",
        "colab": {
          "base_uri": "https://localhost:8080/",
          "height": 279
        },
        "outputId": "83e786fe-8606-4985-ee54-03c510102c98"
      },
      "source": [
        "# target variable: price of car\n",
        "sns.distplot(cars['price'])\n",
        "plt.show()"
      ],
      "execution_count": 12,
      "outputs": [
        {
          "output_type": "display_data",
          "data": {
            "image/png": "[encoded data removed]",
            "text/plain": [
              "<Figure size 432x288 with 1 Axes>"
            ]
          },
          "metadata": {
            "tags": [],
            "needs_background": "light"
          }
        }
      ]
    },
    {
      "cell_type": "markdown",
      "metadata": {
        "id": "OdGs7Kq7hiv-"
      },
      "source": [
        "#### Data Exploration\n",
        "\n",
        "To perform linear regression, the (numeric) target variable should be linearly related to *at least one another numeric variable*. Let's see whether that's true in this case.\n",
        "\n",
        "\n",
        "We'll first subset the list of all (independent) numeric variables, and then make a **pairwise plot**."
      ]
    },
    {
      "cell_type": "code",
      "metadata": {
        "id": "Y3Kbexxvhiv-",
        "colab": {
          "base_uri": "https://localhost:8080/",
          "height": 197
        },
        "outputId": "76baf067-48b2-4f1c-9d35-9631b9dca78e"
      },
      "source": [
        "# all numeric (float and int) variables in the dataset\n",
        "cars_numeric = cars.select_dtypes(include=['float64', 'int64'])\n",
        "cars_numeric.head()"
      ],
      "execution_count": 13,
      "outputs": [
        {
          "output_type": "execute_result",
          "data": {
            "text/html": [
              "<div>\n",
              "<style scoped>\n",
              "    .dataframe tbody tr th:only-of-type {\n",
              "        vertical-align: middle;\n",
              "    }\n",
              "\n",
              "    .dataframe tbody tr th {\n",
              "        vertical-align: top;\n",
              "    }\n",
              "\n",
              "    .dataframe thead th {\n",
              "        text-align: right;\n",
              "    }\n",
              "</style>\n",
              "<table border=\"1\" class=\"dataframe\">\n",
              "  <thead>\n",
              "    <tr style=\"text-align: right;\">\n",
              "      <th></th>\n",
              "      <th>car_ID</th>\n",
              "      <th>symboling</th>\n",
              "      <th>wheelbase</th>\n",
              "      <th>carlength</th>\n",
              "      <th>carwidth</th>\n",
              "      <th>carheight</th>\n",
              "      <th>curbweight</th>\n",
              "      <th>enginesize</th>\n",
              "      <th>boreratio</th>\n",
              "      <th>stroke</th>\n",
              "      <th>compressionratio</th>\n",
              "      <th>horsepower</th>\n",
              "      <th>peakrpm</th>\n",
              "      <th>citympg</th>\n",
              "      <th>highwaympg</th>\n",
              "      <th>price</th>\n",
              "    </tr>\n",
              "  </thead>\n",
              "  <tbody>\n",
              "    <tr>\n",
              "      <th>0</th>\n",
              "      <td>1</td>\n",
              "      <td>3</td>\n",
              "      <td>88.6</td>\n",
              "      <td>168.8</td>\n",
              "      <td>64.1</td>\n",
              "      <td>48.8</td>\n",
              "      <td>2548</td>\n",
              "      <td>130</td>\n",
              "      <td>3.47</td>\n",
              "      <td>2.68</td>\n",
              "      <td>9.0</td>\n",
              "      <td>111</td>\n",
              "      <td>5000</td>\n",
              "      <td>21</td>\n",
              "      <td>27</td>\n",
              "      <td>13495.0</td>\n",
              "    </tr>\n",
              "    <tr>\n",
              "      <th>1</th>\n",
              "      <td>2</td>\n",
              "      <td>3</td>\n",
              "      <td>88.6</td>\n",
              "      <td>168.8</td>\n",
              "      <td>64.1</td>\n",
              "      <td>48.8</td>\n",
              "      <td>2548</td>\n",
              "      <td>130</td>\n",
              "      <td>3.47</td>\n",
              "      <td>2.68</td>\n",
              "      <td>9.0</td>\n",
              "      <td>111</td>\n",
              "      <td>5000</td>\n",
              "      <td>21</td>\n",
              "      <td>27</td>\n",
              "      <td>16500.0</td>\n",
              "    </tr>\n",
              "    <tr>\n",
              "      <th>2</th>\n",
              "      <td>3</td>\n",
              "      <td>1</td>\n",
              "      <td>94.5</td>\n",
              "      <td>171.2</td>\n",
              "      <td>65.5</td>\n",
              "      <td>52.4</td>\n",
              "      <td>2823</td>\n",
              "      <td>152</td>\n",
              "      <td>2.68</td>\n",
              "      <td>3.47</td>\n",
              "      <td>9.0</td>\n",
              "      <td>154</td>\n",
              "      <td>5000</td>\n",
              "      <td>19</td>\n",
              "      <td>26</td>\n",
              "      <td>16500.0</td>\n",
              "    </tr>\n",
              "    <tr>\n",
              "      <th>3</th>\n",
              "      <td>4</td>\n",
              "      <td>2</td>\n",
              "      <td>99.8</td>\n",
              "      <td>176.6</td>\n",
              "      <td>66.2</td>\n",
              "      <td>54.3</td>\n",
              "      <td>2337</td>\n",
              "      <td>109</td>\n",
              "      <td>3.19</td>\n",
              "      <td>3.40</td>\n",
              "      <td>10.0</td>\n",
              "      <td>102</td>\n",
              "      <td>5500</td>\n",
              "      <td>24</td>\n",
              "      <td>30</td>\n",
              "      <td>13950.0</td>\n",
              "    </tr>\n",
              "    <tr>\n",
              "      <th>4</th>\n",
              "      <td>5</td>\n",
              "      <td>2</td>\n",
              "      <td>99.4</td>\n",
              "      <td>176.6</td>\n",
              "      <td>66.4</td>\n",
              "      <td>54.3</td>\n",
              "      <td>2824</td>\n",
              "      <td>136</td>\n",
              "      <td>3.19</td>\n",
              "      <td>3.40</td>\n",
              "      <td>8.0</td>\n",
              "      <td>115</td>\n",
              "      <td>5500</td>\n",
              "      <td>18</td>\n",
              "      <td>22</td>\n",
              "      <td>17450.0</td>\n",
              "    </tr>\n",
              "  </tbody>\n",
              "</table>\n",
              "</div>"
            ],
            "text/plain": [
              "   car_ID  symboling  wheelbase  ...  citympg  highwaympg    price\n",
              "0       1          3       88.6  ...       21          27  13495.0\n",
              "1       2          3       88.6  ...       21          27  16500.0\n",
              "2       3          1       94.5  ...       19          26  16500.0\n",
              "3       4          2       99.8  ...       24          30  13950.0\n",
              "4       5          2       99.4  ...       18          22  17450.0\n",
              "\n",
              "[5 rows x 16 columns]"
            ]
          },
          "metadata": {
            "tags": []
          },
          "execution_count": 13
        }
      ]
    },
    {
      "cell_type": "markdown",
      "metadata": {
        "id": "zMDAZZ7nhiv_"
      },
      "source": [
        "Here, although the variable ```symboling``` is numeric (int), we'd rather treat it as categorical since it has only 6 discrete values. Also, we do not want 'car_ID'."
      ]
    },
    {
      "cell_type": "code",
      "metadata": {
        "id": "qQ7axFXAhiv_",
        "colab": {
          "base_uri": "https://localhost:8080/",
          "height": 197
        },
        "outputId": "998c85c6-ab23-4c9a-a01c-9e93a461e301"
      },
      "source": [
        "# dropping symboling and car_ID \n",
        "cars_numeric = cars_numeric.drop(['symboling','car_ID'], axis=1)\n",
        "cars_numeric.head()"
      ],
      "execution_count": 14,
      "outputs": [
        {
          "output_type": "execute_result",
          "data": {
            "text/html": [
              "<div>\n",
              "<style scoped>\n",
              "    .dataframe tbody tr th:only-of-type {\n",
              "        vertical-align: middle;\n",
              "    }\n",
              "\n",
              "    .dataframe tbody tr th {\n",
              "        vertical-align: top;\n",
              "    }\n",
              "\n",
              "    .dataframe thead th {\n",
              "        text-align: right;\n",
              "    }\n",
              "</style>\n",
              "<table border=\"1\" class=\"dataframe\">\n",
              "  <thead>\n",
              "    <tr style=\"text-align: right;\">\n",
              "      <th></th>\n",
              "      <th>wheelbase</th>\n",
              "      <th>carlength</th>\n",
              "      <th>carwidth</th>\n",
              "      <th>carheight</th>\n",
              "      <th>curbweight</th>\n",
              "      <th>enginesize</th>\n",
              "      <th>boreratio</th>\n",
              "      <th>stroke</th>\n",
              "      <th>compressionratio</th>\n",
              "      <th>horsepower</th>\n",
              "      <th>peakrpm</th>\n",
              "      <th>citympg</th>\n",
              "      <th>highwaympg</th>\n",
              "      <th>price</th>\n",
              "    </tr>\n",
              "  </thead>\n",
              "  <tbody>\n",
              "    <tr>\n",
              "      <th>0</th>\n",
              "      <td>88.6</td>\n",
              "      <td>168.8</td>\n",
              "      <td>64.1</td>\n",
              "      <td>48.8</td>\n",
              "      <td>2548</td>\n",
              "      <td>130</td>\n",
              "      <td>3.47</td>\n",
              "      <td>2.68</td>\n",
              "      <td>9.0</td>\n",
              "      <td>111</td>\n",
              "      <td>5000</td>\n",
              "      <td>21</td>\n",
              "      <td>27</td>\n",
              "      <td>13495.0</td>\n",
              "    </tr>\n",
              "    <tr>\n",
              "      <th>1</th>\n",
              "      <td>88.6</td>\n",
              "      <td>168.8</td>\n",
              "      <td>64.1</td>\n",
              "      <td>48.8</td>\n",
              "      <td>2548</td>\n",
              "      <td>130</td>\n",
              "      <td>3.47</td>\n",
              "      <td>2.68</td>\n",
              "      <td>9.0</td>\n",
              "      <td>111</td>\n",
              "      <td>5000</td>\n",
              "      <td>21</td>\n",
              "      <td>27</td>\n",
              "      <td>16500.0</td>\n",
              "    </tr>\n",
              "    <tr>\n",
              "      <th>2</th>\n",
              "      <td>94.5</td>\n",
              "      <td>171.2</td>\n",
              "      <td>65.5</td>\n",
              "      <td>52.4</td>\n",
              "      <td>2823</td>\n",
              "      <td>152</td>\n",
              "      <td>2.68</td>\n",
              "      <td>3.47</td>\n",
              "      <td>9.0</td>\n",
              "      <td>154</td>\n",
              "      <td>5000</td>\n",
              "      <td>19</td>\n",
              "      <td>26</td>\n",
              "      <td>16500.0</td>\n",
              "    </tr>\n",
              "    <tr>\n",
              "      <th>3</th>\n",
              "      <td>99.8</td>\n",
              "      <td>176.6</td>\n",
              "      <td>66.2</td>\n",
              "      <td>54.3</td>\n",
              "      <td>2337</td>\n",
              "      <td>109</td>\n",
              "      <td>3.19</td>\n",
              "      <td>3.40</td>\n",
              "      <td>10.0</td>\n",
              "      <td>102</td>\n",
              "      <td>5500</td>\n",
              "      <td>24</td>\n",
              "      <td>30</td>\n",
              "      <td>13950.0</td>\n",
              "    </tr>\n",
              "    <tr>\n",
              "      <th>4</th>\n",
              "      <td>99.4</td>\n",
              "      <td>176.6</td>\n",
              "      <td>66.4</td>\n",
              "      <td>54.3</td>\n",
              "      <td>2824</td>\n",
              "      <td>136</td>\n",
              "      <td>3.19</td>\n",
              "      <td>3.40</td>\n",
              "      <td>8.0</td>\n",
              "      <td>115</td>\n",
              "      <td>5500</td>\n",
              "      <td>18</td>\n",
              "      <td>22</td>\n",
              "      <td>17450.0</td>\n",
              "    </tr>\n",
              "  </tbody>\n",
              "</table>\n",
              "</div>"
            ],
            "text/plain": [
              "   wheelbase  carlength  carwidth  ...  citympg  highwaympg    price\n",
              "0       88.6      168.8      64.1  ...       21          27  13495.0\n",
              "1       88.6      168.8      64.1  ...       21          27  16500.0\n",
              "2       94.5      171.2      65.5  ...       19          26  16500.0\n",
              "3       99.8      176.6      66.2  ...       24          30  13950.0\n",
              "4       99.4      176.6      66.4  ...       18          22  17450.0\n",
              "\n",
              "[5 rows x 14 columns]"
            ]
          },
          "metadata": {
            "tags": []
          },
          "execution_count": 14
        }
      ]
    },
    {
      "cell_type": "markdown",
      "metadata": {
        "id": "aZjqvt98hiv_"
      },
      "source": [
        "This is quite hard to read, and we can rather plot correlations between variables. Also, a heatmap is pretty useful to visualise multiple correlations in one plot."
      ]
    },
    {
      "cell_type": "code",
      "metadata": {
        "id": "QHQlS4K5hiwA",
        "colab": {
          "base_uri": "https://localhost:8080/",
          "height": 467
        },
        "outputId": "2e907fe2-2547-4cb9-c780-012e37bde331"
      },
      "source": [
        "# correlation matrix\n",
        "cor = cars_numeric.corr()\n",
        "cor"
      ],
      "execution_count": 15,
      "outputs": [
        {
          "output_type": "execute_result",
          "data": {
            "text/html": [
              "<div>\n",
              "<style scoped>\n",
              "    .dataframe tbody tr th:only-of-type {\n",
              "        vertical-align: middle;\n",
              "    }\n",
              "\n",
              "    .dataframe tbody tr th {\n",
              "        vertical-align: top;\n",
              "    }\n",
              "\n",
              "    .dataframe thead th {\n",
              "        text-align: right;\n",
              "    }\n",
              "</style>\n",
              "<table border=\"1\" class=\"dataframe\">\n",
              "  <thead>\n",
              "    <tr style=\"text-align: right;\">\n",
              "      <th></th>\n",
              "      <th>wheelbase</th>\n",
              "      <th>carlength</th>\n",
              "      <th>carwidth</th>\n",
              "      <th>carheight</th>\n",
              "      <th>curbweight</th>\n",
              "      <th>enginesize</th>\n",
              "      <th>boreratio</th>\n",
              "      <th>stroke</th>\n",
              "      <th>compressionratio</th>\n",
              "      <th>horsepower</th>\n",
              "      <th>peakrpm</th>\n",
              "      <th>citympg</th>\n",
              "      <th>highwaympg</th>\n",
              "      <th>price</th>\n",
              "    </tr>\n",
              "  </thead>\n",
              "  <tbody>\n",
              "    <tr>\n",
              "      <th>wheelbase</th>\n",
              "      <td>1.000000</td>\n",
              "      <td>0.874587</td>\n",
              "      <td>0.795144</td>\n",
              "      <td>0.589435</td>\n",
              "      <td>0.776386</td>\n",
              "      <td>0.569329</td>\n",
              "      <td>0.488750</td>\n",
              "      <td>0.160959</td>\n",
              "      <td>0.249786</td>\n",
              "      <td>0.353294</td>\n",
              "      <td>-0.360469</td>\n",
              "      <td>-0.470414</td>\n",
              "      <td>-0.544082</td>\n",
              "      <td>0.577816</td>\n",
              "    </tr>\n",
              "    <tr>\n",
              "      <th>carlength</th>\n",
              "      <td>0.874587</td>\n",
              "      <td>1.000000</td>\n",
              "      <td>0.841118</td>\n",
              "      <td>0.491029</td>\n",
              "      <td>0.877728</td>\n",
              "      <td>0.683360</td>\n",
              "      <td>0.606454</td>\n",
              "      <td>0.129533</td>\n",
              "      <td>0.158414</td>\n",
              "      <td>0.552623</td>\n",
              "      <td>-0.287242</td>\n",
              "      <td>-0.670909</td>\n",
              "      <td>-0.704662</td>\n",
              "      <td>0.682920</td>\n",
              "    </tr>\n",
              "    <tr>\n",
              "      <th>carwidth</th>\n",
              "      <td>0.795144</td>\n",
              "      <td>0.841118</td>\n",
              "      <td>1.000000</td>\n",
              "      <td>0.279210</td>\n",
              "      <td>0.867032</td>\n",
              "      <td>0.735433</td>\n",
              "      <td>0.559150</td>\n",
              "      <td>0.182942</td>\n",
              "      <td>0.181129</td>\n",
              "      <td>0.640732</td>\n",
              "      <td>-0.220012</td>\n",
              "      <td>-0.642704</td>\n",
              "      <td>-0.677218</td>\n",
              "      <td>0.759325</td>\n",
              "    </tr>\n",
              "    <tr>\n",
              "      <th>carheight</th>\n",
              "      <td>0.589435</td>\n",
              "      <td>0.491029</td>\n",
              "      <td>0.279210</td>\n",
              "      <td>1.000000</td>\n",
              "      <td>0.295572</td>\n",
              "      <td>0.067149</td>\n",
              "      <td>0.171071</td>\n",
              "      <td>-0.055307</td>\n",
              "      <td>0.261214</td>\n",
              "      <td>-0.108802</td>\n",
              "      <td>-0.320411</td>\n",
              "      <td>-0.048640</td>\n",
              "      <td>-0.107358</td>\n",
              "      <td>0.119336</td>\n",
              "    </tr>\n",
              "    <tr>\n",
              "      <th>curbweight</th>\n",
              "      <td>0.776386</td>\n",
              "      <td>0.877728</td>\n",
              "      <td>0.867032</td>\n",
              "      <td>0.295572</td>\n",
              "      <td>1.000000</td>\n",
              "      <td>0.850594</td>\n",
              "      <td>0.648480</td>\n",
              "      <td>0.168790</td>\n",
              "      <td>0.151362</td>\n",
              "      <td>0.750739</td>\n",
              "      <td>-0.266243</td>\n",
              "      <td>-0.757414</td>\n",
              "      <td>-0.797465</td>\n",
              "      <td>0.835305</td>\n",
              "    </tr>\n",
              "    <tr>\n",
              "      <th>enginesize</th>\n",
              "      <td>0.569329</td>\n",
              "      <td>0.683360</td>\n",
              "      <td>0.735433</td>\n",
              "      <td>0.067149</td>\n",
              "      <td>0.850594</td>\n",
              "      <td>1.000000</td>\n",
              "      <td>0.583774</td>\n",
              "      <td>0.203129</td>\n",
              "      <td>0.028971</td>\n",
              "      <td>0.809769</td>\n",
              "      <td>-0.244660</td>\n",
              "      <td>-0.653658</td>\n",
              "      <td>-0.677470</td>\n",
              "      <td>0.874145</td>\n",
              "    </tr>\n",
              "    <tr>\n",
              "      <th>boreratio</th>\n",
              "      <td>0.488750</td>\n",
              "      <td>0.606454</td>\n",
              "      <td>0.559150</td>\n",
              "      <td>0.171071</td>\n",
              "      <td>0.648480</td>\n",
              "      <td>0.583774</td>\n",
              "      <td>1.000000</td>\n",
              "      <td>-0.055909</td>\n",
              "      <td>0.005197</td>\n",
              "      <td>0.573677</td>\n",
              "      <td>-0.254976</td>\n",
              "      <td>-0.584532</td>\n",
              "      <td>-0.587012</td>\n",
              "      <td>0.553173</td>\n",
              "    </tr>\n",
              "    <tr>\n",
              "      <th>stroke</th>\n",
              "      <td>0.160959</td>\n",
              "      <td>0.129533</td>\n",
              "      <td>0.182942</td>\n",
              "      <td>-0.055307</td>\n",
              "      <td>0.168790</td>\n",
              "      <td>0.203129</td>\n",
              "      <td>-0.055909</td>\n",
              "      <td>1.000000</td>\n",
              "      <td>0.186110</td>\n",
              "      <td>0.080940</td>\n",
              "      <td>-0.067964</td>\n",
              "      <td>-0.042145</td>\n",
              "      <td>-0.043931</td>\n",
              "      <td>0.079443</td>\n",
              "    </tr>\n",
              "    <tr>\n",
              "      <th>compressionratio</th>\n",
              "      <td>0.249786</td>\n",
              "      <td>0.158414</td>\n",
              "      <td>0.181129</td>\n",
              "      <td>0.261214</td>\n",
              "      <td>0.151362</td>\n",
              "      <td>0.028971</td>\n",
              "      <td>0.005197</td>\n",
              "      <td>0.186110</td>\n",
              "      <td>1.000000</td>\n",
              "      <td>-0.204326</td>\n",
              "      <td>-0.435741</td>\n",
              "      <td>0.324701</td>\n",
              "      <td>0.265201</td>\n",
              "      <td>0.067984</td>\n",
              "    </tr>\n",
              "    <tr>\n",
              "      <th>horsepower</th>\n",
              "      <td>0.353294</td>\n",
              "      <td>0.552623</td>\n",
              "      <td>0.640732</td>\n",
              "      <td>-0.108802</td>\n",
              "      <td>0.750739</td>\n",
              "      <td>0.809769</td>\n",
              "      <td>0.573677</td>\n",
              "      <td>0.080940</td>\n",
              "      <td>-0.204326</td>\n",
              "      <td>1.000000</td>\n",
              "      <td>0.131073</td>\n",
              "      <td>-0.801456</td>\n",
              "      <td>-0.770544</td>\n",
              "      <td>0.808139</td>\n",
              "    </tr>\n",
              "    <tr>\n",
              "      <th>peakrpm</th>\n",
              "      <td>-0.360469</td>\n",
              "      <td>-0.287242</td>\n",
              "      <td>-0.220012</td>\n",
              "      <td>-0.320411</td>\n",
              "      <td>-0.266243</td>\n",
              "      <td>-0.244660</td>\n",
              "      <td>-0.254976</td>\n",
              "      <td>-0.067964</td>\n",
              "      <td>-0.435741</td>\n",
              "      <td>0.131073</td>\n",
              "      <td>1.000000</td>\n",
              "      <td>-0.113544</td>\n",
              "      <td>-0.054275</td>\n",
              "      <td>-0.085267</td>\n",
              "    </tr>\n",
              "    <tr>\n",
              "      <th>citympg</th>\n",
              "      <td>-0.470414</td>\n",
              "      <td>-0.670909</td>\n",
              "      <td>-0.642704</td>\n",
              "      <td>-0.048640</td>\n",
              "      <td>-0.757414</td>\n",
              "      <td>-0.653658</td>\n",
              "      <td>-0.584532</td>\n",
              "      <td>-0.042145</td>\n",
              "      <td>0.324701</td>\n",
              "      <td>-0.801456</td>\n",
              "      <td>-0.113544</td>\n",
              "      <td>1.000000</td>\n",
              "      <td>0.971337</td>\n",
              "      <td>-0.685751</td>\n",
              "    </tr>\n",
              "    <tr>\n",
              "      <th>highwaympg</th>\n",
              "      <td>-0.544082</td>\n",
              "      <td>-0.704662</td>\n",
              "      <td>-0.677218</td>\n",
              "      <td>-0.107358</td>\n",
              "      <td>-0.797465</td>\n",
              "      <td>-0.677470</td>\n",
              "      <td>-0.587012</td>\n",
              "      <td>-0.043931</td>\n",
              "      <td>0.265201</td>\n",
              "      <td>-0.770544</td>\n",
              "      <td>-0.054275</td>\n",
              "      <td>0.971337</td>\n",
              "      <td>1.000000</td>\n",
              "      <td>-0.697599</td>\n",
              "    </tr>\n",
              "    <tr>\n",
              "      <th>price</th>\n",
              "      <td>0.577816</td>\n",
              "      <td>0.682920</td>\n",
              "      <td>0.759325</td>\n",
              "      <td>0.119336</td>\n",
              "      <td>0.835305</td>\n",
              "      <td>0.874145</td>\n",
              "      <td>0.553173</td>\n",
              "      <td>0.079443</td>\n",
              "      <td>0.067984</td>\n",
              "      <td>0.808139</td>\n",
              "      <td>-0.085267</td>\n",
              "      <td>-0.685751</td>\n",
              "      <td>-0.697599</td>\n",
              "      <td>1.000000</td>\n",
              "    </tr>\n",
              "  </tbody>\n",
              "</table>\n",
              "</div>"
            ],
            "text/plain": [
              "                  wheelbase  carlength  ...  highwaympg     price\n",
              "wheelbase          1.000000   0.874587  ...   -0.544082  0.577816\n",
              "carlength          0.874587   1.000000  ...   -0.704662  0.682920\n",
              "carwidth           0.795144   0.841118  ...   -0.677218  0.759325\n",
              "carheight          0.589435   0.491029  ...   -0.107358  0.119336\n",
              "curbweight         0.776386   0.877728  ...   -0.797465  0.835305\n",
              "enginesize         0.569329   0.683360  ...   -0.677470  0.874145\n",
              "boreratio          0.488750   0.606454  ...   -0.587012  0.553173\n",
              "stroke             0.160959   0.129533  ...   -0.043931  0.079443\n",
              "compressionratio   0.249786   0.158414  ...    0.265201  0.067984\n",
              "horsepower         0.353294   0.552623  ...   -0.770544  0.808139\n",
              "peakrpm           -0.360469  -0.287242  ...   -0.054275 -0.085267\n",
              "citympg           -0.470414  -0.670909  ...    0.971337 -0.685751\n",
              "highwaympg        -0.544082  -0.704662  ...    1.000000 -0.697599\n",
              "price              0.577816   0.682920  ...   -0.697599  1.000000\n",
              "\n",
              "[14 rows x 14 columns]"
            ]
          },
          "metadata": {
            "tags": []
          },
          "execution_count": 15
        }
      ]
    },
    {
      "cell_type": "code",
      "metadata": {
        "id": "vXX9jxwghiwA",
        "colab": {
          "base_uri": "https://localhost:8080/",
          "height": 563
        },
        "outputId": "a7647582-63ea-4f5b-945f-ff5f02fe152c"
      },
      "source": [
        "# plotting correlations on a heatmap\n",
        "\n",
        "# figure size\n",
        "plt.figure(figsize=(16,8))\n",
        "\n",
        "# heatmap\n",
        "sns.heatmap(cor, cmap=\"YlGnBu\", annot=True)\n",
        "plt.show()\n"
      ],
      "execution_count": 16,
      "outputs": [
        {
          "output_type": "display_data",
          "data": {
            "image/png": "[encoded data removed]",
            "text/plain": [
              "<Figure size 1152x576 with 2 Axes>"
            ]
          },
          "metadata": {
            "tags": [],
            "needs_background": "light"
          }
        }
      ]
    },
    {
      "cell_type": "markdown",
      "metadata": {
        "id": "hANC0odbhiwB"
      },
      "source": [
        "The heatmap shows some useful insights:\n",
        "\n",
        "Correlation of price with independent variables:\n",
        "- Price is highly (positively) correlated with wheelbase, carlength, carwidth, curbweight, enginesize, horsepower (notice how all of these variables represent the size/weight/engine power of the car)\n",
        "\n",
        "- Price is negatively correlated to ```citympg``` and ```highwaympg``` (-0.70 approximately). This suggest that cars having high mileage may fall in the 'economy' cars category, and are priced lower (think Maruti Alto/Swift type of cars, which are designed to be affordable by the middle class, who value mileage more than horsepower/size of car etc.)\n",
        "\n",
        "Correlation among independent variables:\n",
        "- Many independent variables are highly correlated (look at the top-left part of matrix): wheelbase, carlength, curbweight, enginesize etc. are all measures of 'size/weight', and are positively correlated \n",
        "\n",
        "\n",
        "Thus, while building the model, we'll have to pay attention to multicollinearity (especially linear models, such as linear and logistic regression, suffer more from multicollinearity)."
      ]
    },
    {
      "cell_type": "markdown",
      "metadata": {
        "id": "M2uRcqLthiwC"
      },
      "source": [
        "## 2. Data Cleaning\n",
        "\n",
        "Let's now conduct some data cleaning steps. \n",
        "\n",
        "We've seen that there are no missing values in the dataset. We've also seen that variables are in the correct format, except ```symboling```, which should rather be a categorical variable (so that dummy variable are created for the categories).\n",
        "\n",
        "Note that it *can* be used in the model as a numeric variable also. \n",
        "\n"
      ]
    },
    {
      "cell_type": "code",
      "metadata": {
        "id": "DreiJ-bfhiwC",
        "colab": {
          "base_uri": "https://localhost:8080/"
        },
        "outputId": "a7d86b6d-8ca2-4738-a2c6-32bd47a31269"
      },
      "source": [
        "# variable formats\n",
        "cars.info()"
      ],
      "execution_count": 17,
      "outputs": [
        {
          "output_type": "stream",
          "text": [
            "<class 'pandas.core.frame.DataFrame'>\n",
            "RangeIndex: 205 entries, 0 to 204\n",
            "Data columns (total 26 columns):\n",
            " #   Column            Non-Null Count  Dtype  \n",
            "---  ------            --------------  -----  \n",
            " 0   car_ID            205 non-null    int64  \n",
            " 1   symboling         205 non-null    int64  \n",
            " 2   CarName           205 non-null    object \n",
            " 3   fueltype          205 non-null    object \n",
            " 4   aspiration        205 non-null    object \n",
            " 5   doornumber        205 non-null    object \n",
            " 6   carbody           205 non-null    object \n",
            " 7   drivewheel        205 non-null    object \n",
            " 8   enginelocation    205 non-null    object \n",
            " 9   wheelbase         205 non-null    float64\n",
            " 10  carlength         205 non-null    float64\n",
            " 11  carwidth          205 non-null    float64\n",
            " 12  carheight         205 non-null    float64\n",
            " 13  curbweight        205 non-null    int64  \n",
            " 14  enginetype        205 non-null    object \n",
            " 15  cylindernumber    205 non-null    object \n",
            " 16  enginesize        205 non-null    int64  \n",
            " 17  fuelsystem        205 non-null    object \n",
            " 18  boreratio         205 non-null    float64\n",
            " 19  stroke            205 non-null    float64\n",
            " 20  compressionratio  205 non-null    float64\n",
            " 21  horsepower        205 non-null    int64  \n",
            " 22  peakrpm           205 non-null    int64  \n",
            " 23  citympg           205 non-null    int64  \n",
            " 24  highwaympg        205 non-null    int64  \n",
            " 25  price             205 non-null    float64\n",
            "dtypes: float64(8), int64(8), object(10)\n",
            "memory usage: 41.8+ KB\n"
          ],
          "name": "stdout"
        }
      ]
    },
    {
      "cell_type": "code",
      "metadata": {
        "id": "ybMz_oJihiwD",
        "colab": {
          "base_uri": "https://localhost:8080/"
        },
        "outputId": "417e9c42-0887-49b0-91d3-29ac63793e84"
      },
      "source": [
        "# converting symboling to categorical\n",
        "cars['symboling'] = cars['symboling'].astype('object')\n",
        "cars.info()"
      ],
      "execution_count": 18,
      "outputs": [
        {
          "output_type": "stream",
          "text": [
            "<class 'pandas.core.frame.DataFrame'>\n",
            "RangeIndex: 205 entries, 0 to 204\n",
            "Data columns (total 26 columns):\n",
            " #   Column            Non-Null Count  Dtype  \n",
            "---  ------            --------------  -----  \n",
            " 0   car_ID            205 non-null    int64  \n",
            " 1   symboling         205 non-null    object \n",
            " 2   CarName           205 non-null    object \n",
            " 3   fueltype          205 non-null    object \n",
            " 4   aspiration        205 non-null    object \n",
            " 5   doornumber        205 non-null    object \n",
            " 6   carbody           205 non-null    object \n",
            " 7   drivewheel        205 non-null    object \n",
            " 8   enginelocation    205 non-null    object \n",
            " 9   wheelbase         205 non-null    float64\n",
            " 10  carlength         205 non-null    float64\n",
            " 11  carwidth          205 non-null    float64\n",
            " 12  carheight         205 non-null    float64\n",
            " 13  curbweight        205 non-null    int64  \n",
            " 14  enginetype        205 non-null    object \n",
            " 15  cylindernumber    205 non-null    object \n",
            " 16  enginesize        205 non-null    int64  \n",
            " 17  fuelsystem        205 non-null    object \n",
            " 18  boreratio         205 non-null    float64\n",
            " 19  stroke            205 non-null    float64\n",
            " 20  compressionratio  205 non-null    float64\n",
            " 21  horsepower        205 non-null    int64  \n",
            " 22  peakrpm           205 non-null    int64  \n",
            " 23  citympg           205 non-null    int64  \n",
            " 24  highwaympg        205 non-null    int64  \n",
            " 25  price             205 non-null    float64\n",
            "dtypes: float64(8), int64(7), object(11)\n",
            "memory usage: 41.8+ KB\n"
          ],
          "name": "stdout"
        }
      ]
    },
    {
      "cell_type": "markdown",
      "metadata": {
        "id": "ru0zhLpyhiwD"
      },
      "source": [
        "Netx, we need to extract the company name from the column ```CarName```. "
      ]
    },
    {
      "cell_type": "code",
      "metadata": {
        "id": "FLGRslerhiwD",
        "colab": {
          "base_uri": "https://localhost:8080/"
        },
        "outputId": "d5104893-76d0-46aa-cf96-7d50e5c12099"
      },
      "source": [
        "# CarName: first few entries\n",
        "cars['CarName'][:30]"
      ],
      "execution_count": 19,
      "outputs": [
        {
          "output_type": "execute_result",
          "data": {
            "text/plain": [
              "0            alfa-romero giulia\n",
              "1           alfa-romero stelvio\n",
              "2      alfa-romero Quadrifoglio\n",
              "3                   audi 100 ls\n",
              "4                    audi 100ls\n",
              "5                      audi fox\n",
              "6                    audi 100ls\n",
              "7                     audi 5000\n",
              "8                     audi 4000\n",
              "9           audi 5000s (diesel)\n",
              "10                     bmw 320i\n",
              "11                     bmw 320i\n",
              "12                       bmw x1\n",
              "13                       bmw x3\n",
              "14                       bmw z4\n",
              "15                       bmw x4\n",
              "16                       bmw x5\n",
              "17                       bmw x3\n",
              "18             chevrolet impala\n",
              "19        chevrolet monte carlo\n",
              "20          chevrolet vega 2300\n",
              "21                dodge rampage\n",
              "22          dodge challenger se\n",
              "23                   dodge d200\n",
              "24            dodge monaco (sw)\n",
              "25           dodge colt hardtop\n",
              "26              dodge colt (sw)\n",
              "27         dodge coronet custom\n",
              "28            dodge dart custom\n",
              "29    dodge coronet custom (sw)\n",
              "Name: CarName, dtype: object"
            ]
          },
          "metadata": {
            "tags": []
          },
          "execution_count": 19
        }
      ]
    },
    {
      "cell_type": "markdown",
      "metadata": {
        "id": "qduGRSDAhiwE"
      },
      "source": [
        "Notice that the carname is what occurs before a space, e.g. alfa-romero, audi, chevrolet, dodge, bmx etc.\n",
        "\n",
        "Thus, we need to simply extract the string before a space. There are multiple ways to do that.\n",
        "\n",
        "\n"
      ]
    },
    {
      "cell_type": "code",
      "metadata": {
        "id": "JsGEs_fKhiwE",
        "colab": {
          "base_uri": "https://localhost:8080/"
        },
        "outputId": "c836c5ac-9dcc-42f6-d4b9-8fb07d600b4b"
      },
      "source": [
        "# Extracting carname\n",
        "\n",
        "# Method 1: str.split() by space\n",
        "carnames = cars['CarName'].apply(lambda x: x.split(\" \")[0])\n",
        "carnames[:30]"
      ],
      "execution_count": 20,
      "outputs": [
        {
          "output_type": "execute_result",
          "data": {
            "text/plain": [
              "0     alfa-romero\n",
              "1     alfa-romero\n",
              "2     alfa-romero\n",
              "3            audi\n",
              "4            audi\n",
              "5            audi\n",
              "6            audi\n",
              "7            audi\n",
              "8            audi\n",
              "9            audi\n",
              "10            bmw\n",
              "11            bmw\n",
              "12            bmw\n",
              "13            bmw\n",
              "14            bmw\n",
              "15            bmw\n",
              "16            bmw\n",
              "17            bmw\n",
              "18      chevrolet\n",
              "19      chevrolet\n",
              "20      chevrolet\n",
              "21          dodge\n",
              "22          dodge\n",
              "23          dodge\n",
              "24          dodge\n",
              "25          dodge\n",
              "26          dodge\n",
              "27          dodge\n",
              "28          dodge\n",
              "29          dodge\n",
              "Name: CarName, dtype: object"
            ]
          },
          "metadata": {
            "tags": []
          },
          "execution_count": 20
        }
      ]
    },
    {
      "cell_type": "code",
      "metadata": {
        "id": "y64vM6MahiwE",
        "colab": {
          "base_uri": "https://localhost:8080/"
        },
        "outputId": "8637e24f-d280-49e9-cdf7-c6a4b0165385"
      },
      "source": [
        "# Method 2: Use regular expressions\n",
        "import re\n",
        "\n",
        "# regex: any alphanumeric sequence before a space, may contain a hyphen\n",
        "p = re.compile(r'\\w+-?\\w+')\n",
        "carnames = cars['CarName'].apply(lambda x: re.findall(p, x)[0])\n",
        "print(carnames)"
      ],
      "execution_count": 21,
      "outputs": [
        {
          "output_type": "stream",
          "text": [
            "0      alfa-romero\n",
            "1      alfa-romero\n",
            "2      alfa-romero\n",
            "3             audi\n",
            "4             audi\n",
            "          ...     \n",
            "200          volvo\n",
            "201          volvo\n",
            "202          volvo\n",
            "203          volvo\n",
            "204          volvo\n",
            "Name: CarName, Length: 205, dtype: object\n"
          ],
          "name": "stdout"
        }
      ]
    },
    {
      "cell_type": "markdown",
      "metadata": {
        "id": "7g_fozzNhiwF"
      },
      "source": [
        "Let's create a new column to store the compnay name and check whether it looks okay."
      ]
    },
    {
      "cell_type": "code",
      "metadata": {
        "id": "OEuZafH5hiwG"
      },
      "source": [
        "# New column car_company\n",
        "cars['car_company'] = cars['CarName'].apply(lambda x: re.findall(p, x)[0])"
      ],
      "execution_count": 22,
      "outputs": []
    },
    {
      "cell_type": "code",
      "metadata": {
        "id": "dFjVIOVGhiwG",
        "colab": {
          "base_uri": "https://localhost:8080/"
        },
        "outputId": "2c2d0a25-f50f-41d6-aee6-12b7edb1f0e1"
      },
      "source": [
        "# look at all values \n",
        "cars['car_company'].astype('category').value_counts()"
      ],
      "execution_count": 23,
      "outputs": [
        {
          "output_type": "execute_result",
          "data": {
            "text/plain": [
              "toyota         31\n",
              "nissan         17\n",
              "mazda          15\n",
              "mitsubishi     13\n",
              "honda          13\n",
              "subaru         12\n",
              "volvo          11\n",
              "peugeot        11\n",
              "volkswagen      9\n",
              "dodge           9\n",
              "buick           8\n",
              "bmw             8\n",
              "plymouth        7\n",
              "audi            7\n",
              "saab            6\n",
              "porsche         4\n",
              "isuzu           4\n",
              "chevrolet       3\n",
              "alfa-romero     3\n",
              "jaguar          3\n",
              "vw              2\n",
              "maxda           2\n",
              "renault         2\n",
              "mercury         1\n",
              "porcshce        1\n",
              "toyouta         1\n",
              "vokswagen       1\n",
              "Nissan          1\n",
              "Name: car_company, dtype: int64"
            ]
          },
          "metadata": {
            "tags": []
          },
          "execution_count": 23
        }
      ]
    },
    {
      "cell_type": "markdown",
      "metadata": {
        "id": "peKUXXi0hiwG"
      },
      "source": [
        "Notice that **some car-company names are misspelled** - vw and vokswagen should be volkswagen, porcshce should be porsche, toyouta should be toyota, Nissan should be nissan, maxda should be mazda etc.\n",
        "\n",
        "This is a data quality issue, let's solve it."
      ]
    },
    {
      "cell_type": "code",
      "metadata": {
        "id": "MZfNzzgshiwH"
      },
      "source": [
        "# replacing misspelled car_company names\n",
        "\n",
        "# volkswagen\n",
        "cars.loc[(cars['car_company'] == \"vw\") | \n",
        "         (cars['car_company'] == \"vokswagen\")\n",
        "         , 'car_company'] = 'volkswagen'\n",
        "\n",
        "# porsche\n",
        "cars.loc[cars['car_company'] == \"porcshce\", 'car_company'] = 'porsche'\n",
        "\n",
        "# toyota\n",
        "cars.loc[cars['car_company'] == \"toyouta\", 'car_company'] = 'toyota'\n",
        "\n",
        "# nissan\n",
        "cars.loc[cars['car_company'] == \"Nissan\", 'car_company'] = 'nissan'\n",
        "\n",
        "# mazda\n",
        "cars.loc[cars['car_company'] == \"maxda\", 'car_company'] = 'mazda'"
      ],
      "execution_count": 24,
      "outputs": []
    },
    {
      "cell_type": "code",
      "metadata": {
        "id": "mEVdRY4QhiwH",
        "colab": {
          "base_uri": "https://localhost:8080/"
        },
        "outputId": "b26048da-27c6-4889-b66a-4e77fa7a42ba"
      },
      "source": [
        "cars['car_company'].astype('category').value_counts()"
      ],
      "execution_count": 25,
      "outputs": [
        {
          "output_type": "execute_result",
          "data": {
            "text/plain": [
              "toyota         32\n",
              "nissan         18\n",
              "mazda          17\n",
              "honda          13\n",
              "mitsubishi     13\n",
              "subaru         12\n",
              "volkswagen     12\n",
              "volvo          11\n",
              "peugeot        11\n",
              "dodge           9\n",
              "buick           8\n",
              "bmw             8\n",
              "plymouth        7\n",
              "audi            7\n",
              "saab            6\n",
              "porsche         5\n",
              "isuzu           4\n",
              "alfa-romero     3\n",
              "chevrolet       3\n",
              "jaguar          3\n",
              "renault         2\n",
              "mercury         1\n",
              "Name: car_company, dtype: int64"
            ]
          },
          "metadata": {
            "tags": []
          },
          "execution_count": 25
        }
      ]
    },
    {
      "cell_type": "markdown",
      "metadata": {
        "id": "4pnclRV3hiwH"
      },
      "source": [
        "The ```car_company``` variable looks okay now. Let's now drop the car name variable."
      ]
    },
    {
      "cell_type": "code",
      "metadata": {
        "id": "DCrNrJOqhiwI"
      },
      "source": [
        "# drop carname variable\n",
        "cars = cars.drop('CarName', axis=1)"
      ],
      "execution_count": 26,
      "outputs": []
    },
    {
      "cell_type": "code",
      "metadata": {
        "id": "xJZa64UKhiwI",
        "colab": {
          "base_uri": "https://localhost:8080/"
        },
        "outputId": "e61be9d7-5da5-402f-bebe-1675c44f0ce0"
      },
      "source": [
        "cars.info()"
      ],
      "execution_count": 27,
      "outputs": [
        {
          "output_type": "stream",
          "text": [
            "<class 'pandas.core.frame.DataFrame'>\n",
            "RangeIndex: 205 entries, 0 to 204\n",
            "Data columns (total 26 columns):\n",
            " #   Column            Non-Null Count  Dtype  \n",
            "---  ------            --------------  -----  \n",
            " 0   car_ID            205 non-null    int64  \n",
            " 1   symboling         205 non-null    object \n",
            " 2   fueltype          205 non-null    object \n",
            " 3   aspiration        205 non-null    object \n",
            " 4   doornumber        205 non-null    object \n",
            " 5   carbody           205 non-null    object \n",
            " 6   drivewheel        205 non-null    object \n",
            " 7   enginelocation    205 non-null    object \n",
            " 8   wheelbase         205 non-null    float64\n",
            " 9   carlength         205 non-null    float64\n",
            " 10  carwidth          205 non-null    float64\n",
            " 11  carheight         205 non-null    float64\n",
            " 12  curbweight        205 non-null    int64  \n",
            " 13  enginetype        205 non-null    object \n",
            " 14  cylindernumber    205 non-null    object \n",
            " 15  enginesize        205 non-null    int64  \n",
            " 16  fuelsystem        205 non-null    object \n",
            " 17  boreratio         205 non-null    float64\n",
            " 18  stroke            205 non-null    float64\n",
            " 19  compressionratio  205 non-null    float64\n",
            " 20  horsepower        205 non-null    int64  \n",
            " 21  peakrpm           205 non-null    int64  \n",
            " 22  citympg           205 non-null    int64  \n",
            " 23  highwaympg        205 non-null    int64  \n",
            " 24  price             205 non-null    float64\n",
            " 25  car_company       205 non-null    object \n",
            "dtypes: float64(8), int64(7), object(11)\n",
            "memory usage: 41.8+ KB\n"
          ],
          "name": "stdout"
        }
      ]
    },
    {
      "cell_type": "code",
      "metadata": {
        "id": "e2EJKxURhiwI",
        "colab": {
          "base_uri": "https://localhost:8080/",
          "height": 287
        },
        "outputId": "ea1bb07c-20c8-406a-861f-773d3b29e85c"
      },
      "source": [
        "# outliers\n",
        "cars.describe()"
      ],
      "execution_count": 28,
      "outputs": [
        {
          "output_type": "execute_result",
          "data": {
            "text/html": [
              "<div>\n",
              "<style scoped>\n",
              "    .dataframe tbody tr th:only-of-type {\n",
              "        vertical-align: middle;\n",
              "    }\n",
              "\n",
              "    .dataframe tbody tr th {\n",
              "        vertical-align: top;\n",
              "    }\n",
              "\n",
              "    .dataframe thead th {\n",
              "        text-align: right;\n",
              "    }\n",
              "</style>\n",
              "<table border=\"1\" class=\"dataframe\">\n",
              "  <thead>\n",
              "    <tr style=\"text-align: right;\">\n",
              "      <th></th>\n",
              "      <th>car_ID</th>\n",
              "      <th>wheelbase</th>\n",
              "      <th>carlength</th>\n",
              "      <th>carwidth</th>\n",
              "      <th>carheight</th>\n",
              "      <th>curbweight</th>\n",
              "      <th>enginesize</th>\n",
              "      <th>boreratio</th>\n",
              "      <th>stroke</th>\n",
              "      <th>compressionratio</th>\n",
              "      <th>horsepower</th>\n",
              "      <th>peakrpm</th>\n",
              "      <th>citympg</th>\n",
              "      <th>highwaympg</th>\n",
              "      <th>price</th>\n",
              "    </tr>\n",
              "  </thead>\n",
              "  <tbody>\n",
              "    <tr>\n",
              "      <th>count</th>\n",
              "      <td>205.000000</td>\n",
              "      <td>205.000000</td>\n",
              "      <td>205.000000</td>\n",
              "      <td>205.000000</td>\n",
              "      <td>205.000000</td>\n",
              "      <td>205.000000</td>\n",
              "      <td>205.000000</td>\n",
              "      <td>205.000000</td>\n",
              "      <td>205.000000</td>\n",
              "      <td>205.000000</td>\n",
              "      <td>205.000000</td>\n",
              "      <td>205.000000</td>\n",
              "      <td>205.000000</td>\n",
              "      <td>205.000000</td>\n",
              "      <td>205.000000</td>\n",
              "    </tr>\n",
              "    <tr>\n",
              "      <th>mean</th>\n",
              "      <td>103.000000</td>\n",
              "      <td>98.756585</td>\n",
              "      <td>174.049268</td>\n",
              "      <td>65.907805</td>\n",
              "      <td>53.724878</td>\n",
              "      <td>2555.565854</td>\n",
              "      <td>126.907317</td>\n",
              "      <td>3.329756</td>\n",
              "      <td>3.255415</td>\n",
              "      <td>10.142537</td>\n",
              "      <td>104.117073</td>\n",
              "      <td>5125.121951</td>\n",
              "      <td>25.219512</td>\n",
              "      <td>30.751220</td>\n",
              "      <td>13276.710571</td>\n",
              "    </tr>\n",
              "    <tr>\n",
              "      <th>std</th>\n",
              "      <td>59.322565</td>\n",
              "      <td>6.021776</td>\n",
              "      <td>12.337289</td>\n",
              "      <td>2.145204</td>\n",
              "      <td>2.443522</td>\n",
              "      <td>520.680204</td>\n",
              "      <td>41.642693</td>\n",
              "      <td>0.270844</td>\n",
              "      <td>0.313597</td>\n",
              "      <td>3.972040</td>\n",
              "      <td>39.544167</td>\n",
              "      <td>476.985643</td>\n",
              "      <td>6.542142</td>\n",
              "      <td>6.886443</td>\n",
              "      <td>7988.852332</td>\n",
              "    </tr>\n",
              "    <tr>\n",
              "      <th>min</th>\n",
              "      <td>1.000000</td>\n",
              "      <td>86.600000</td>\n",
              "      <td>141.100000</td>\n",
              "      <td>60.300000</td>\n",
              "      <td>47.800000</td>\n",
              "      <td>1488.000000</td>\n",
              "      <td>61.000000</td>\n",
              "      <td>2.540000</td>\n",
              "      <td>2.070000</td>\n",
              "      <td>7.000000</td>\n",
              "      <td>48.000000</td>\n",
              "      <td>4150.000000</td>\n",
              "      <td>13.000000</td>\n",
              "      <td>16.000000</td>\n",
              "      <td>5118.000000</td>\n",
              "    </tr>\n",
              "    <tr>\n",
              "      <th>25%</th>\n",
              "      <td>52.000000</td>\n",
              "      <td>94.500000</td>\n",
              "      <td>166.300000</td>\n",
              "      <td>64.100000</td>\n",
              "      <td>52.000000</td>\n",
              "      <td>2145.000000</td>\n",
              "      <td>97.000000</td>\n",
              "      <td>3.150000</td>\n",
              "      <td>3.110000</td>\n",
              "      <td>8.600000</td>\n",
              "      <td>70.000000</td>\n",
              "      <td>4800.000000</td>\n",
              "      <td>19.000000</td>\n",
              "      <td>25.000000</td>\n",
              "      <td>7788.000000</td>\n",
              "    </tr>\n",
              "    <tr>\n",
              "      <th>50%</th>\n",
              "      <td>103.000000</td>\n",
              "      <td>97.000000</td>\n",
              "      <td>173.200000</td>\n",
              "      <td>65.500000</td>\n",
              "      <td>54.100000</td>\n",
              "      <td>2414.000000</td>\n",
              "      <td>120.000000</td>\n",
              "      <td>3.310000</td>\n",
              "      <td>3.290000</td>\n",
              "      <td>9.000000</td>\n",
              "      <td>95.000000</td>\n",
              "      <td>5200.000000</td>\n",
              "      <td>24.000000</td>\n",
              "      <td>30.000000</td>\n",
              "      <td>10295.000000</td>\n",
              "    </tr>\n",
              "    <tr>\n",
              "      <th>75%</th>\n",
              "      <td>154.000000</td>\n",
              "      <td>102.400000</td>\n",
              "      <td>183.100000</td>\n",
              "      <td>66.900000</td>\n",
              "      <td>55.500000</td>\n",
              "      <td>2935.000000</td>\n",
              "      <td>141.000000</td>\n",
              "      <td>3.580000</td>\n",
              "      <td>3.410000</td>\n",
              "      <td>9.400000</td>\n",
              "      <td>116.000000</td>\n",
              "      <td>5500.000000</td>\n",
              "      <td>30.000000</td>\n",
              "      <td>34.000000</td>\n",
              "      <td>16503.000000</td>\n",
              "    </tr>\n",
              "    <tr>\n",
              "      <th>max</th>\n",
              "      <td>205.000000</td>\n",
              "      <td>120.900000</td>\n",
              "      <td>208.100000</td>\n",
              "      <td>72.300000</td>\n",
              "      <td>59.800000</td>\n",
              "      <td>4066.000000</td>\n",
              "      <td>326.000000</td>\n",
              "      <td>3.940000</td>\n",
              "      <td>4.170000</td>\n",
              "      <td>23.000000</td>\n",
              "      <td>288.000000</td>\n",
              "      <td>6600.000000</td>\n",
              "      <td>49.000000</td>\n",
              "      <td>54.000000</td>\n",
              "      <td>45400.000000</td>\n",
              "    </tr>\n",
              "  </tbody>\n",
              "</table>\n",
              "</div>"
            ],
            "text/plain": [
              "           car_ID   wheelbase   carlength  ...     citympg  highwaympg         price\n",
              "count  205.000000  205.000000  205.000000  ...  205.000000  205.000000    205.000000\n",
              "mean   103.000000   98.756585  174.049268  ...   25.219512   30.751220  13276.710571\n",
              "std     59.322565    6.021776   12.337289  ...    6.542142    6.886443   7988.852332\n",
              "min      1.000000   86.600000  141.100000  ...   13.000000   16.000000   5118.000000\n",
              "25%     52.000000   94.500000  166.300000  ...   19.000000   25.000000   7788.000000\n",
              "50%    103.000000   97.000000  173.200000  ...   24.000000   30.000000  10295.000000\n",
              "75%    154.000000  102.400000  183.100000  ...   30.000000   34.000000  16503.000000\n",
              "max    205.000000  120.900000  208.100000  ...   49.000000   54.000000  45400.000000\n",
              "\n",
              "[8 rows x 15 columns]"
            ]
          },
          "metadata": {
            "tags": []
          },
          "execution_count": 28
        }
      ]
    },
    {
      "cell_type": "code",
      "metadata": {
        "id": "OPDLFrX2hiwJ",
        "colab": {
          "base_uri": "https://localhost:8080/"
        },
        "outputId": "9fff6214-02b4-4a51-e672-f8801d99d3b8"
      },
      "source": [
        "cars.info()"
      ],
      "execution_count": 29,
      "outputs": [
        {
          "output_type": "stream",
          "text": [
            "<class 'pandas.core.frame.DataFrame'>\n",
            "RangeIndex: 205 entries, 0 to 204\n",
            "Data columns (total 26 columns):\n",
            " #   Column            Non-Null Count  Dtype  \n",
            "---  ------            --------------  -----  \n",
            " 0   car_ID            205 non-null    int64  \n",
            " 1   symboling         205 non-null    object \n",
            " 2   fueltype          205 non-null    object \n",
            " 3   aspiration        205 non-null    object \n",
            " 4   doornumber        205 non-null    object \n",
            " 5   carbody           205 non-null    object \n",
            " 6   drivewheel        205 non-null    object \n",
            " 7   enginelocation    205 non-null    object \n",
            " 8   wheelbase         205 non-null    float64\n",
            " 9   carlength         205 non-null    float64\n",
            " 10  carwidth          205 non-null    float64\n",
            " 11  carheight         205 non-null    float64\n",
            " 12  curbweight        205 non-null    int64  \n",
            " 13  enginetype        205 non-null    object \n",
            " 14  cylindernumber    205 non-null    object \n",
            " 15  enginesize        205 non-null    int64  \n",
            " 16  fuelsystem        205 non-null    object \n",
            " 17  boreratio         205 non-null    float64\n",
            " 18  stroke            205 non-null    float64\n",
            " 19  compressionratio  205 non-null    float64\n",
            " 20  horsepower        205 non-null    int64  \n",
            " 21  peakrpm           205 non-null    int64  \n",
            " 22  citympg           205 non-null    int64  \n",
            " 23  highwaympg        205 non-null    int64  \n",
            " 24  price             205 non-null    float64\n",
            " 25  car_company       205 non-null    object \n",
            "dtypes: float64(8), int64(7), object(11)\n",
            "memory usage: 41.8+ KB\n"
          ],
          "name": "stdout"
        }
      ]
    },
    {
      "cell_type": "markdown",
      "metadata": {
        "id": "4JxY_t6GhiwJ"
      },
      "source": [
        "## 3. Data Preparation \n",
        "\n",
        "\n",
        "#### Data Preparation\n",
        "\n",
        "Let's now prepare the data and build the model."
      ]
    },
    {
      "cell_type": "code",
      "metadata": {
        "id": "EKtNPyK2hiwJ"
      },
      "source": [
        "# split into X and y\n",
        "X = cars.loc[:, ['symboling', 'fueltype', 'aspiration', 'doornumber',\n",
        "       'carbody', 'drivewheel', 'enginelocation', 'wheelbase', 'carlength',\n",
        "       'carwidth', 'carheight', 'curbweight', 'enginetype', 'cylindernumber',\n",
        "       'enginesize', 'fuelsystem', 'boreratio', 'stroke', 'compressionratio',\n",
        "       'horsepower', 'peakrpm', 'citympg', 'highwaympg',\n",
        "       'car_company']] # predictors in variable X\n",
        "\n",
        "y = cars['price'] # response variable in Y\n"
      ],
      "execution_count": 30,
      "outputs": []
    },
    {
      "cell_type": "code",
      "metadata": {
        "id": "9JwcN_AehiwK",
        "colab": {
          "base_uri": "https://localhost:8080/",
          "height": 197
        },
        "outputId": "b02dcac0-46db-404c-f05b-920dcc9afd2b"
      },
      "source": [
        "# creating dummy variables for categorical variables\n",
        "\n",
        "# subset all categorical variables\n",
        "cars_categorical = X.select_dtypes(include=['object'])\n",
        "cars_categorical.head()\n"
      ],
      "execution_count": 31,
      "outputs": [
        {
          "output_type": "execute_result",
          "data": {
            "text/html": [
              "<div>\n",
              "<style scoped>\n",
              "    .dataframe tbody tr th:only-of-type {\n",
              "        vertical-align: middle;\n",
              "    }\n",
              "\n",
              "    .dataframe tbody tr th {\n",
              "        vertical-align: top;\n",
              "    }\n",
              "\n",
              "    .dataframe thead th {\n",
              "        text-align: right;\n",
              "    }\n",
              "</style>\n",
              "<table border=\"1\" class=\"dataframe\">\n",
              "  <thead>\n",
              "    <tr style=\"text-align: right;\">\n",
              "      <th></th>\n",
              "      <th>symboling</th>\n",
              "      <th>fueltype</th>\n",
              "      <th>aspiration</th>\n",
              "      <th>doornumber</th>\n",
              "      <th>carbody</th>\n",
              "      <th>drivewheel</th>\n",
              "      <th>enginelocation</th>\n",
              "      <th>enginetype</th>\n",
              "      <th>cylindernumber</th>\n",
              "      <th>fuelsystem</th>\n",
              "      <th>car_company</th>\n",
              "    </tr>\n",
              "  </thead>\n",
              "  <tbody>\n",
              "    <tr>\n",
              "      <th>0</th>\n",
              "      <td>3</td>\n",
              "      <td>gas</td>\n",
              "      <td>std</td>\n",
              "      <td>two</td>\n",
              "      <td>convertible</td>\n",
              "      <td>rwd</td>\n",
              "      <td>front</td>\n",
              "      <td>dohc</td>\n",
              "      <td>four</td>\n",
              "      <td>mpfi</td>\n",
              "      <td>alfa-romero</td>\n",
              "    </tr>\n",
              "    <tr>\n",
              "      <th>1</th>\n",
              "      <td>3</td>\n",
              "      <td>gas</td>\n",
              "      <td>std</td>\n",
              "      <td>two</td>\n",
              "      <td>convertible</td>\n",
              "      <td>rwd</td>\n",
              "      <td>front</td>\n",
              "      <td>dohc</td>\n",
              "      <td>four</td>\n",
              "      <td>mpfi</td>\n",
              "      <td>alfa-romero</td>\n",
              "    </tr>\n",
              "    <tr>\n",
              "      <th>2</th>\n",
              "      <td>1</td>\n",
              "      <td>gas</td>\n",
              "      <td>std</td>\n",
              "      <td>two</td>\n",
              "      <td>hatchback</td>\n",
              "      <td>rwd</td>\n",
              "      <td>front</td>\n",
              "      <td>ohcv</td>\n",
              "      <td>six</td>\n",
              "      <td>mpfi</td>\n",
              "      <td>alfa-romero</td>\n",
              "    </tr>\n",
              "    <tr>\n",
              "      <th>3</th>\n",
              "      <td>2</td>\n",
              "      <td>gas</td>\n",
              "      <td>std</td>\n",
              "      <td>four</td>\n",
              "      <td>sedan</td>\n",
              "      <td>fwd</td>\n",
              "      <td>front</td>\n",
              "      <td>ohc</td>\n",
              "      <td>four</td>\n",
              "      <td>mpfi</td>\n",
              "      <td>audi</td>\n",
              "    </tr>\n",
              "    <tr>\n",
              "      <th>4</th>\n",
              "      <td>2</td>\n",
              "      <td>gas</td>\n",
              "      <td>std</td>\n",
              "      <td>four</td>\n",
              "      <td>sedan</td>\n",
              "      <td>4wd</td>\n",
              "      <td>front</td>\n",
              "      <td>ohc</td>\n",
              "      <td>five</td>\n",
              "      <td>mpfi</td>\n",
              "      <td>audi</td>\n",
              "    </tr>\n",
              "  </tbody>\n",
              "</table>\n",
              "</div>"
            ],
            "text/plain": [
              "  symboling fueltype aspiration  ... cylindernumber fuelsystem  car_company\n",
              "0         3      gas        std  ...           four       mpfi  alfa-romero\n",
              "1         3      gas        std  ...           four       mpfi  alfa-romero\n",
              "2         1      gas        std  ...            six       mpfi  alfa-romero\n",
              "3         2      gas        std  ...           four       mpfi         audi\n",
              "4         2      gas        std  ...           five       mpfi         audi\n",
              "\n",
              "[5 rows x 11 columns]"
            ]
          },
          "metadata": {
            "tags": []
          },
          "execution_count": 31
        }
      ]
    },
    {
      "cell_type": "code",
      "metadata": {
        "id": "evA7r7WThiwL",
        "colab": {
          "base_uri": "https://localhost:8080/",
          "height": 217
        },
        "outputId": "134d6bfd-a4a7-437a-f874-81b02f37e206"
      },
      "source": [
        "# convert into dummies - one hot encoding\n",
        "cars_dummies = pd.get_dummies(cars_categorical, drop_first=True)\n",
        "cars_dummies.head()"
      ],
      "execution_count": 32,
      "outputs": [
        {
          "output_type": "execute_result",
          "data": {
            "text/html": [
              "<div>\n",
              "<style scoped>\n",
              "    .dataframe tbody tr th:only-of-type {\n",
              "        vertical-align: middle;\n",
              "    }\n",
              "\n",
              "    .dataframe tbody tr th {\n",
              "        vertical-align: top;\n",
              "    }\n",
              "\n",
              "    .dataframe thead th {\n",
              "        text-align: right;\n",
              "    }\n",
              "</style>\n",
              "<table border=\"1\" class=\"dataframe\">\n",
              "  <thead>\n",
              "    <tr style=\"text-align: right;\">\n",
              "      <th></th>\n",
              "      <th>symboling_-1</th>\n",
              "      <th>symboling_0</th>\n",
              "      <th>symboling_1</th>\n",
              "      <th>symboling_2</th>\n",
              "      <th>symboling_3</th>\n",
              "      <th>fueltype_gas</th>\n",
              "      <th>aspiration_turbo</th>\n",
              "      <th>doornumber_two</th>\n",
              "      <th>carbody_hardtop</th>\n",
              "      <th>carbody_hatchback</th>\n",
              "      <th>carbody_sedan</th>\n",
              "      <th>carbody_wagon</th>\n",
              "      <th>drivewheel_fwd</th>\n",
              "      <th>drivewheel_rwd</th>\n",
              "      <th>enginelocation_rear</th>\n",
              "      <th>enginetype_dohcv</th>\n",
              "      <th>enginetype_l</th>\n",
              "      <th>enginetype_ohc</th>\n",
              "      <th>enginetype_ohcf</th>\n",
              "      <th>enginetype_ohcv</th>\n",
              "      <th>enginetype_rotor</th>\n",
              "      <th>cylindernumber_five</th>\n",
              "      <th>cylindernumber_four</th>\n",
              "      <th>cylindernumber_six</th>\n",
              "      <th>cylindernumber_three</th>\n",
              "      <th>cylindernumber_twelve</th>\n",
              "      <th>cylindernumber_two</th>\n",
              "      <th>fuelsystem_2bbl</th>\n",
              "      <th>fuelsystem_4bbl</th>\n",
              "      <th>fuelsystem_idi</th>\n",
              "      <th>fuelsystem_mfi</th>\n",
              "      <th>fuelsystem_mpfi</th>\n",
              "      <th>fuelsystem_spdi</th>\n",
              "      <th>fuelsystem_spfi</th>\n",
              "      <th>car_company_audi</th>\n",
              "      <th>car_company_bmw</th>\n",
              "      <th>car_company_buick</th>\n",
              "      <th>car_company_chevrolet</th>\n",
              "      <th>car_company_dodge</th>\n",
              "      <th>car_company_honda</th>\n",
              "      <th>car_company_isuzu</th>\n",
              "      <th>car_company_jaguar</th>\n",
              "      <th>car_company_mazda</th>\n",
              "      <th>car_company_mercury</th>\n",
              "      <th>car_company_mitsubishi</th>\n",
              "      <th>car_company_nissan</th>\n",
              "      <th>car_company_peugeot</th>\n",
              "      <th>car_company_plymouth</th>\n",
              "      <th>car_company_porsche</th>\n",
              "      <th>car_company_renault</th>\n",
              "      <th>car_company_saab</th>\n",
              "      <th>car_company_subaru</th>\n",
              "      <th>car_company_toyota</th>\n",
              "      <th>car_company_volkswagen</th>\n",
              "      <th>car_company_volvo</th>\n",
              "    </tr>\n",
              "  </thead>\n",
              "  <tbody>\n",
              "    <tr>\n",
              "      <th>0</th>\n",
              "      <td>0</td>\n",
              "      <td>0</td>\n",
              "      <td>0</td>\n",
              "      <td>0</td>\n",
              "      <td>1</td>\n",
              "      <td>1</td>\n",
              "      <td>0</td>\n",
              "      <td>1</td>\n",
              "      <td>0</td>\n",
              "      <td>0</td>\n",
              "      <td>0</td>\n",
              "      <td>0</td>\n",
              "      <td>0</td>\n",
              "      <td>1</td>\n",
              "      <td>0</td>\n",
              "      <td>0</td>\n",
              "      <td>0</td>\n",
              "      <td>0</td>\n",
              "      <td>0</td>\n",
              "      <td>0</td>\n",
              "      <td>0</td>\n",
              "      <td>0</td>\n",
              "      <td>1</td>\n",
              "      <td>0</td>\n",
              "      <td>0</td>\n",
              "      <td>0</td>\n",
              "      <td>0</td>\n",
              "      <td>0</td>\n",
              "      <td>0</td>\n",
              "      <td>0</td>\n",
              "      <td>0</td>\n",
              "      <td>1</td>\n",
              "      <td>0</td>\n",
              "      <td>0</td>\n",
              "      <td>0</td>\n",
              "      <td>0</td>\n",
              "      <td>0</td>\n",
              "      <td>0</td>\n",
              "      <td>0</td>\n",
              "      <td>0</td>\n",
              "      <td>0</td>\n",
              "      <td>0</td>\n",
              "      <td>0</td>\n",
              "      <td>0</td>\n",
              "      <td>0</td>\n",
              "      <td>0</td>\n",
              "      <td>0</td>\n",
              "      <td>0</td>\n",
              "      <td>0</td>\n",
              "      <td>0</td>\n",
              "      <td>0</td>\n",
              "      <td>0</td>\n",
              "      <td>0</td>\n",
              "      <td>0</td>\n",
              "      <td>0</td>\n",
              "    </tr>\n",
              "    <tr>\n",
              "      <th>1</th>\n",
              "      <td>0</td>\n",
              "      <td>0</td>\n",
              "      <td>0</td>\n",
              "      <td>0</td>\n",
              "      <td>1</td>\n",
              "      <td>1</td>\n",
              "      <td>0</td>\n",
              "      <td>1</td>\n",
              "      <td>0</td>\n",
              "      <td>0</td>\n",
              "      <td>0</td>\n",
              "      <td>0</td>\n",
              "      <td>0</td>\n",
              "      <td>1</td>\n",
              "      <td>0</td>\n",
              "      <td>0</td>\n",
              "      <td>0</td>\n",
              "      <td>0</td>\n",
              "      <td>0</td>\n",
              "      <td>0</td>\n",
              "      <td>0</td>\n",
              "      <td>0</td>\n",
              "      <td>1</td>\n",
              "      <td>0</td>\n",
              "      <td>0</td>\n",
              "      <td>0</td>\n",
              "      <td>0</td>\n",
              "      <td>0</td>\n",
              "      <td>0</td>\n",
              "      <td>0</td>\n",
              "      <td>0</td>\n",
              "      <td>1</td>\n",
              "      <td>0</td>\n",
              "      <td>0</td>\n",
              "      <td>0</td>\n",
              "      <td>0</td>\n",
              "      <td>0</td>\n",
              "      <td>0</td>\n",
              "      <td>0</td>\n",
              "      <td>0</td>\n",
              "      <td>0</td>\n",
              "      <td>0</td>\n",
              "      <td>0</td>\n",
              "      <td>0</td>\n",
              "      <td>0</td>\n",
              "      <td>0</td>\n",
              "      <td>0</td>\n",
              "      <td>0</td>\n",
              "      <td>0</td>\n",
              "      <td>0</td>\n",
              "      <td>0</td>\n",
              "      <td>0</td>\n",
              "      <td>0</td>\n",
              "      <td>0</td>\n",
              "      <td>0</td>\n",
              "    </tr>\n",
              "    <tr>\n",
              "      <th>2</th>\n",
              "      <td>0</td>\n",
              "      <td>0</td>\n",
              "      <td>1</td>\n",
              "      <td>0</td>\n",
              "      <td>0</td>\n",
              "      <td>1</td>\n",
              "      <td>0</td>\n",
              "      <td>1</td>\n",
              "      <td>0</td>\n",
              "      <td>1</td>\n",
              "      <td>0</td>\n",
              "      <td>0</td>\n",
              "      <td>0</td>\n",
              "      <td>1</td>\n",
              "      <td>0</td>\n",
              "      <td>0</td>\n",
              "      <td>0</td>\n",
              "      <td>0</td>\n",
              "      <td>0</td>\n",
              "      <td>1</td>\n",
              "      <td>0</td>\n",
              "      <td>0</td>\n",
              "      <td>0</td>\n",
              "      <td>1</td>\n",
              "      <td>0</td>\n",
              "      <td>0</td>\n",
              "      <td>0</td>\n",
              "      <td>0</td>\n",
              "      <td>0</td>\n",
              "      <td>0</td>\n",
              "      <td>0</td>\n",
              "      <td>1</td>\n",
              "      <td>0</td>\n",
              "      <td>0</td>\n",
              "      <td>0</td>\n",
              "      <td>0</td>\n",
              "      <td>0</td>\n",
              "      <td>0</td>\n",
              "      <td>0</td>\n",
              "      <td>0</td>\n",
              "      <td>0</td>\n",
              "      <td>0</td>\n",
              "      <td>0</td>\n",
              "      <td>0</td>\n",
              "      <td>0</td>\n",
              "      <td>0</td>\n",
              "      <td>0</td>\n",
              "      <td>0</td>\n",
              "      <td>0</td>\n",
              "      <td>0</td>\n",
              "      <td>0</td>\n",
              "      <td>0</td>\n",
              "      <td>0</td>\n",
              "      <td>0</td>\n",
              "      <td>0</td>\n",
              "    </tr>\n",
              "    <tr>\n",
              "      <th>3</th>\n",
              "      <td>0</td>\n",
              "      <td>0</td>\n",
              "      <td>0</td>\n",
              "      <td>1</td>\n",
              "      <td>0</td>\n",
              "      <td>1</td>\n",
              "      <td>0</td>\n",
              "      <td>0</td>\n",
              "      <td>0</td>\n",
              "      <td>0</td>\n",
              "      <td>1</td>\n",
              "      <td>0</td>\n",
              "      <td>1</td>\n",
              "      <td>0</td>\n",
              "      <td>0</td>\n",
              "      <td>0</td>\n",
              "      <td>0</td>\n",
              "      <td>1</td>\n",
              "      <td>0</td>\n",
              "      <td>0</td>\n",
              "      <td>0</td>\n",
              "      <td>0</td>\n",
              "      <td>1</td>\n",
              "      <td>0</td>\n",
              "      <td>0</td>\n",
              "      <td>0</td>\n",
              "      <td>0</td>\n",
              "      <td>0</td>\n",
              "      <td>0</td>\n",
              "      <td>0</td>\n",
              "      <td>0</td>\n",
              "      <td>1</td>\n",
              "      <td>0</td>\n",
              "      <td>0</td>\n",
              "      <td>1</td>\n",
              "      <td>0</td>\n",
              "      <td>0</td>\n",
              "      <td>0</td>\n",
              "      <td>0</td>\n",
              "      <td>0</td>\n",
              "      <td>0</td>\n",
              "      <td>0</td>\n",
              "      <td>0</td>\n",
              "      <td>0</td>\n",
              "      <td>0</td>\n",
              "      <td>0</td>\n",
              "      <td>0</td>\n",
              "      <td>0</td>\n",
              "      <td>0</td>\n",
              "      <td>0</td>\n",
              "      <td>0</td>\n",
              "      <td>0</td>\n",
              "      <td>0</td>\n",
              "      <td>0</td>\n",
              "      <td>0</td>\n",
              "    </tr>\n",
              "    <tr>\n",
              "      <th>4</th>\n",
              "      <td>0</td>\n",
              "      <td>0</td>\n",
              "      <td>0</td>\n",
              "      <td>1</td>\n",
              "      <td>0</td>\n",
              "      <td>1</td>\n",
              "      <td>0</td>\n",
              "      <td>0</td>\n",
              "      <td>0</td>\n",
              "      <td>0</td>\n",
              "      <td>1</td>\n",
              "      <td>0</td>\n",
              "      <td>0</td>\n",
              "      <td>0</td>\n",
              "      <td>0</td>\n",
              "      <td>0</td>\n",
              "      <td>0</td>\n",
              "      <td>1</td>\n",
              "      <td>0</td>\n",
              "      <td>0</td>\n",
              "      <td>0</td>\n",
              "      <td>1</td>\n",
              "      <td>0</td>\n",
              "      <td>0</td>\n",
              "      <td>0</td>\n",
              "      <td>0</td>\n",
              "      <td>0</td>\n",
              "      <td>0</td>\n",
              "      <td>0</td>\n",
              "      <td>0</td>\n",
              "      <td>0</td>\n",
              "      <td>1</td>\n",
              "      <td>0</td>\n",
              "      <td>0</td>\n",
              "      <td>1</td>\n",
              "      <td>0</td>\n",
              "      <td>0</td>\n",
              "      <td>0</td>\n",
              "      <td>0</td>\n",
              "      <td>0</td>\n",
              "      <td>0</td>\n",
              "      <td>0</td>\n",
              "      <td>0</td>\n",
              "      <td>0</td>\n",
              "      <td>0</td>\n",
              "      <td>0</td>\n",
              "      <td>0</td>\n",
              "      <td>0</td>\n",
              "      <td>0</td>\n",
              "      <td>0</td>\n",
              "      <td>0</td>\n",
              "      <td>0</td>\n",
              "      <td>0</td>\n",
              "      <td>0</td>\n",
              "      <td>0</td>\n",
              "    </tr>\n",
              "  </tbody>\n",
              "</table>\n",
              "</div>"
            ],
            "text/plain": [
              "   symboling_-1  symboling_0  ...  car_company_volkswagen  car_company_volvo\n",
              "0             0            0  ...                       0                  0\n",
              "1             0            0  ...                       0                  0\n",
              "2             0            0  ...                       0                  0\n",
              "3             0            0  ...                       0                  0\n",
              "4             0            0  ...                       0                  0\n",
              "\n",
              "[5 rows x 55 columns]"
            ]
          },
          "metadata": {
            "tags": []
          },
          "execution_count": 32
        }
      ]
    },
    {
      "cell_type": "code",
      "metadata": {
        "id": "dndHXh3chiwM"
      },
      "source": [
        "# drop categorical variables \n",
        "X = X.drop(list(cars_categorical.columns), axis=1)"
      ],
      "execution_count": 33,
      "outputs": []
    },
    {
      "cell_type": "code",
      "metadata": {
        "id": "o4ZCp23fhiwN"
      },
      "source": [
        "# concat dummy variables with X\n",
        "X = pd.concat([X, cars_dummies], axis=1)"
      ],
      "execution_count": 34,
      "outputs": []
    },
    {
      "cell_type": "code",
      "metadata": {
        "id": "lzWyyYERhiwN",
        "colab": {
          "base_uri": "https://localhost:8080/"
        },
        "outputId": "4eda0140-99b9-4f7e-b878-65ee50272bac"
      },
      "source": [
        "# scaling the features - necessary before using Ridge or Lasso\n",
        "from sklearn.preprocessing import scale\n",
        "\n",
        "# storing column names in cols, since column names are (annoyingly) lost after \n",
        "# scaling (the df is converted to a numpy array)\n",
        "cols = X.columns\n",
        "X = pd.DataFrame(scale(X))\n",
        "X.columns = cols\n",
        "X.columns"
      ],
      "execution_count": 35,
      "outputs": [
        {
          "output_type": "execute_result",
          "data": {
            "text/plain": [
              "Index(['wheelbase', 'carlength', 'carwidth', 'carheight', 'curbweight',\n",
              "       'enginesize', 'boreratio', 'stroke', 'compressionratio', 'horsepower',\n",
              "       'peakrpm', 'citympg', 'highwaympg', 'symboling_-1', 'symboling_0',\n",
              "       'symboling_1', 'symboling_2', 'symboling_3', 'fueltype_gas',\n",
              "       'aspiration_turbo', 'doornumber_two', 'carbody_hardtop',\n",
              "       'carbody_hatchback', 'carbody_sedan', 'carbody_wagon', 'drivewheel_fwd',\n",
              "       'drivewheel_rwd', 'enginelocation_rear', 'enginetype_dohcv',\n",
              "       'enginetype_l', 'enginetype_ohc', 'enginetype_ohcf', 'enginetype_ohcv',\n",
              "       'enginetype_rotor', 'cylindernumber_five', 'cylindernumber_four',\n",
              "       'cylindernumber_six', 'cylindernumber_three', 'cylindernumber_twelve',\n",
              "       'cylindernumber_two', 'fuelsystem_2bbl', 'fuelsystem_4bbl',\n",
              "       'fuelsystem_idi', 'fuelsystem_mfi', 'fuelsystem_mpfi',\n",
              "       'fuelsystem_spdi', 'fuelsystem_spfi', 'car_company_audi',\n",
              "       'car_company_bmw', 'car_company_buick', 'car_company_chevrolet',\n",
              "       'car_company_dodge', 'car_company_honda', 'car_company_isuzu',\n",
              "       'car_company_jaguar', 'car_company_mazda', 'car_company_mercury',\n",
              "       'car_company_mitsubishi', 'car_company_nissan', 'car_company_peugeot',\n",
              "       'car_company_plymouth', 'car_company_porsche', 'car_company_renault',\n",
              "       'car_company_saab', 'car_company_subaru', 'car_company_toyota',\n",
              "       'car_company_volkswagen', 'car_company_volvo'],\n",
              "      dtype='object')"
            ]
          },
          "metadata": {
            "tags": []
          },
          "execution_count": 35
        }
      ]
    },
    {
      "cell_type": "code",
      "metadata": {
        "id": "dse0gWDXhiwN"
      },
      "source": [
        "# split into train and test\n",
        "from sklearn.model_selection import train_test_split\n",
        "X_train, X_test, y_train, y_test = train_test_split(X, y, \n",
        "                                                    train_size=0.7,\n",
        "                                                    test_size = 0.3, random_state=100)"
      ],
      "execution_count": 36,
      "outputs": []
    },
    {
      "cell_type": "markdown",
      "metadata": {
        "id": "83VqqSx6hiwO"
      },
      "source": [
        "## 3. Model Building and Evaluation"
      ]
    },
    {
      "cell_type": "markdown",
      "metadata": {
        "id": "IMGN9EsrhiwO"
      },
      "source": [
        "## Linear Regression\n",
        "\n",
        "Let's now try predicting car prices, a dataset using linear regression."
      ]
    },
    {
      "cell_type": "code",
      "metadata": {
        "colab": {
          "base_uri": "https://localhost:8080/"
        },
        "id": "anKS9Aekiag7",
        "outputId": "ac81fd5f-bfcb-482d-a2b5-dcd36433d7dc"
      },
      "source": [
        "lm = LinearRegression()\r\n",
        "lm.fit(X_train,y_train)"
      ],
      "execution_count": 37,
      "outputs": [
        {
          "output_type": "execute_result",
          "data": {
            "text/plain": [
              "LinearRegression(copy_X=True, fit_intercept=True, n_jobs=None, normalize=False)"
            ]
          },
          "metadata": {
            "tags": []
          },
          "execution_count": 37
        }
      ]
    },
    {
      "cell_type": "code",
      "metadata": {
        "id": "UKjzqzAFjnHo"
      },
      "source": [
        "y_train_pred = lm.predict(X_train)\r\n",
        "y_test_pred = lm.predict(X_test)"
      ],
      "execution_count": 38,
      "outputs": []
    },
    {
      "cell_type": "code",
      "metadata": {
        "id": "YKvQrf8Oj8hG"
      },
      "source": [
        "residuals = y_train-y_train_pred"
      ],
      "execution_count": 39,
      "outputs": []
    },
    {
      "cell_type": "code",
      "metadata": {
        "colab": {
          "base_uri": "https://localhost:8080/",
          "height": 279
        },
        "id": "ZPTyRsK2kHg2",
        "outputId": "bed8d57e-5dc6-4ead-87ef-dde53669bddb"
      },
      "source": [
        "sns.distplot(residuals)\r\n",
        "plt.show()"
      ],
      "execution_count": 40,
      "outputs": [
        {
          "output_type": "display_data",
          "data": {
            "image/png": "[encoded data removed]",
            "text/plain": [
              "<Figure size 432x288 with 1 Axes>"
            ]
          },
          "metadata": {
            "tags": [],
            "needs_background": "light"
          }
        }
      ]
    },
    {
      "cell_type": "code",
      "metadata": {
        "colab": {
          "base_uri": "https://localhost:8080/",
          "height": 282
        },
        "id": "1oEXOZ1QkMZo",
        "outputId": "4614d80a-3723-4363-9d40-1c771b6baed1"
      },
      "source": [
        "sns.scatterplot(y_train_pred,residuals)\r\n",
        "plt.axhline(y=0, color = 'red')"
      ],
      "execution_count": 41,
      "outputs": [
        {
          "output_type": "execute_result",
          "data": {
            "text/plain": [
              "<matplotlib.lines.Line2D at 0x7feda13df6d8>"
            ]
          },
          "metadata": {
            "tags": []
          },
          "execution_count": 41
        },
        {
          "output_type": "display_data",
          "data": {
            "image/png": "[encoded data removed]",
            "text/plain": [
              "<Figure size 432x288 with 1 Axes>"
            ]
          },
          "metadata": {
            "tags": [],
            "needs_background": "light"
          }
        }
      ]
    },
    {
      "cell_type": "code",
      "metadata": {
        "colab": {
          "base_uri": "https://localhost:8080/"
        },
        "id": "Ii-d4yH_kwgp",
        "outputId": "0d5b97c4-fd68-455d-9790-614368b9c28d"
      },
      "source": [
        "print(r2_score(y_train,y_train_pred))\r\n",
        "print(r2_score(y_test,y_test_pred))"
      ],
      "execution_count": 42,
      "outputs": [
        {
          "output_type": "stream",
          "text": [
            "0.9756892503873289\n",
            "0.838262139339907\n"
          ],
          "name": "stdout"
        }
      ]
    },
    {
      "cell_type": "code",
      "metadata": {
        "colab": {
          "base_uri": "https://localhost:8080/"
        },
        "id": "RvuKJxJKlab1",
        "outputId": "bf8c6f2e-bb32-4deb-99d6-4d4ac88209eb"
      },
      "source": [
        "rss  = np.sum(np.square(residuals))\r\n",
        "rss"
      ],
      "execution_count": 43,
      "outputs": [
        {
          "output_type": "execute_result",
          "data": {
            "text/plain": [
              "210406502.35365197"
            ]
          },
          "metadata": {
            "tags": []
          },
          "execution_count": 43
        }
      ]
    },
    {
      "cell_type": "code",
      "metadata": {
        "colab": {
          "base_uri": "https://localhost:8080/"
        },
        "id": "Hgi9Tmb2xpeZ",
        "outputId": "dc30ecaf-a7ec-43d9-9977-7227c5fde963"
      },
      "source": [
        "rss  = np.sum(np.square(y_test-y_test_pred))\r\n",
        "rss"
      ],
      "execution_count": 44,
      "outputs": [
        {
          "output_type": "execute_result",
          "data": {
            "text/plain": [
              "702234087.1202426"
            ]
          },
          "metadata": {
            "tags": []
          },
          "execution_count": 44
        }
      ]
    },
    {
      "cell_type": "code",
      "metadata": {
        "colab": {
          "base_uri": "https://localhost:8080/"
        },
        "id": "r59efI4llsI4",
        "outputId": "0eabfb33-b61a-46e2-9d01-024ca15275dd"
      },
      "source": [
        "print(mean_squared_error(y_train,y_train_pred))\r\n",
        "print(mean_squared_error(y_test,y_test_pred))"
      ],
      "execution_count": null,
      "outputs": [
        {
          "output_type": "stream",
          "text": [
            "1471374.1423332305\n",
            "11326356.243874881\n"
          ],
          "name": "stdout"
        }
      ]
    },
    {
      "cell_type": "markdown",
      "metadata": {
        "id": "4kAkCx_7r0h2"
      },
      "source": [
        "# Ridge Regrassion"
      ]
    },
    {
      "cell_type": "code",
      "metadata": {
        "colab": {
          "base_uri": "https://localhost:8080/"
        },
        "id": "KWR8yjcul9Vn",
        "outputId": "bbf7883a-5d47-493e-be69-6669ddb19c4c"
      },
      "source": [
        "params = {'alpha': [0.0001, 0.001, 0.01, 0.05, 0.1, \r\n",
        " 0.2, 0.3, 0.4, 0.5, 0.6, 0.7, 0.8, 0.9, 1.0, 2.0, 3.0, \r\n",
        " 4.0, 5.0, 6.0, 7.0, 8.0, 9.0, 10.0, 20, 50, 100, 500, 1000 ]}\r\n",
        "ridge = Ridge()\r\n",
        "grid_search = GridSearchCV(estimator=ridge,\r\n",
        "                            param_grid = params,\r\n",
        "                            scoring = 'neg_mean_absolute_error'\r\n",
        "                            , cv = 5\r\n",
        "                            , verbose=1\r\n",
        "                            , n_jobs = -1\r\n",
        "                            , return_train_score = True)\r\n",
        "grid_search.fit(X_train,y_train)"
      ],
      "execution_count": 47,
      "outputs": [
        {
          "output_type": "stream",
          "text": [
            "Fitting 5 folds for each of 28 candidates, totalling 140 fits\n"
          ],
          "name": "stdout"
        },
        {
          "output_type": "stream",
          "text": [
            "[Parallel(n_jobs=-1)]: Using backend LokyBackend with 2 concurrent workers.\n",
            "[Parallel(n_jobs=-1)]: Done 140 out of 140 | elapsed:    2.0s finished\n"
          ],
          "name": "stderr"
        },
        {
          "output_type": "execute_result",
          "data": {
            "text/plain": [
              "GridSearchCV(cv=5, error_score=nan,\n",
              "             estimator=Ridge(alpha=1.0, copy_X=True, fit_intercept=True,\n",
              "                             max_iter=None, normalize=False, random_state=None,\n",
              "                             solver='auto', tol=0.001),\n",
              "             iid='deprecated', n_jobs=-1,\n",
              "             param_grid={'alpha': [0.0001, 0.001, 0.01, 0.05, 0.1, 0.2, 0.3,\n",
              "                                   0.4, 0.5, 0.6, 0.7, 0.8, 0.9, 1.0, 2.0, 3.0,\n",
              "                                   4.0, 5.0, 6.0, 7.0, 8.0, 9.0, 10.0, 20, 50,\n",
              "                                   100, 500, 1000]},\n",
              "             pre_dispatch='2*n_jobs', refit=True, return_train_score=True,\n",
              "             scoring='neg_mean_absolute_error', verbose=1)"
            ]
          },
          "metadata": {
            "tags": []
          },
          "execution_count": 47
        }
      ]
    },
    {
      "cell_type": "code",
      "metadata": {
        "id": "DxfZL1binJAw",
        "colab": {
          "base_uri": "https://localhost:8080/",
          "height": 1000
        },
        "outputId": "0b065c98-6128-4f9f-8892-9418a1954ace"
      },
      "source": [
        "grid_search_df = pd.DataFrame(grid_search.cv_results_)\r\n",
        "grid_search_df"
      ],
      "execution_count": 49,
      "outputs": [
        {
          "output_type": "execute_result",
          "data": {
            "text/html": [
              "<div>\n",
              "<style scoped>\n",
              "    .dataframe tbody tr th:only-of-type {\n",
              "        vertical-align: middle;\n",
              "    }\n",
              "\n",
              "    .dataframe tbody tr th {\n",
              "        vertical-align: top;\n",
              "    }\n",
              "\n",
              "    .dataframe thead th {\n",
              "        text-align: right;\n",
              "    }\n",
              "</style>\n",
              "<table border=\"1\" class=\"dataframe\">\n",
              "  <thead>\n",
              "    <tr style=\"text-align: right;\">\n",
              "      <th></th>\n",
              "      <th>mean_fit_time</th>\n",
              "      <th>std_fit_time</th>\n",
              "      <th>mean_score_time</th>\n",
              "      <th>std_score_time</th>\n",
              "      <th>param_alpha</th>\n",
              "      <th>params</th>\n",
              "      <th>split0_test_score</th>\n",
              "      <th>split1_test_score</th>\n",
              "      <th>split2_test_score</th>\n",
              "      <th>split3_test_score</th>\n",
              "      <th>split4_test_score</th>\n",
              "      <th>mean_test_score</th>\n",
              "      <th>std_test_score</th>\n",
              "      <th>rank_test_score</th>\n",
              "      <th>split0_train_score</th>\n",
              "      <th>split1_train_score</th>\n",
              "      <th>split2_train_score</th>\n",
              "      <th>split3_train_score</th>\n",
              "      <th>split4_train_score</th>\n",
              "      <th>mean_train_score</th>\n",
              "      <th>std_train_score</th>\n",
              "    </tr>\n",
              "  </thead>\n",
              "  <tbody>\n",
              "    <tr>\n",
              "      <th>0</th>\n",
              "      <td>0.003486</td>\n",
              "      <td>0.000907</td>\n",
              "      <td>0.001444</td>\n",
              "      <td>0.000144</td>\n",
              "      <td>0.0001</td>\n",
              "      <td>{'alpha': 0.0001}</td>\n",
              "      <td>-2854.116752</td>\n",
              "      <td>-1413.812299</td>\n",
              "      <td>-1531.761541</td>\n",
              "      <td>-3968.369904</td>\n",
              "      <td>-2566.257557</td>\n",
              "      <td>-2466.863611</td>\n",
              "      <td>937.837752</td>\n",
              "      <td>26</td>\n",
              "      <td>-694.753230</td>\n",
              "      <td>-814.178930</td>\n",
              "      <td>-832.351826</td>\n",
              "      <td>-903.775793</td>\n",
              "      <td>-720.171139</td>\n",
              "      <td>-793.046184</td>\n",
              "      <td>76.452403</td>\n",
              "    </tr>\n",
              "    <tr>\n",
              "      <th>1</th>\n",
              "      <td>0.002939</td>\n",
              "      <td>0.000035</td>\n",
              "      <td>0.001405</td>\n",
              "      <td>0.000033</td>\n",
              "      <td>0.001</td>\n",
              "      <td>{'alpha': 0.001}</td>\n",
              "      <td>-2846.765330</td>\n",
              "      <td>-1412.112714</td>\n",
              "      <td>-1533.523778</td>\n",
              "      <td>-3944.973694</td>\n",
              "      <td>-2566.383705</td>\n",
              "      <td>-2460.751844</td>\n",
              "      <td>929.782223</td>\n",
              "      <td>25</td>\n",
              "      <td>-695.179504</td>\n",
              "      <td>-813.808050</td>\n",
              "      <td>-831.764642</td>\n",
              "      <td>-903.295166</td>\n",
              "      <td>-719.845373</td>\n",
              "      <td>-792.778547</td>\n",
              "      <td>76.185169</td>\n",
              "    </tr>\n",
              "    <tr>\n",
              "      <th>2</th>\n",
              "      <td>0.003035</td>\n",
              "      <td>0.000333</td>\n",
              "      <td>0.001559</td>\n",
              "      <td>0.000329</td>\n",
              "      <td>0.01</td>\n",
              "      <td>{'alpha': 0.01}</td>\n",
              "      <td>-2784.176328</td>\n",
              "      <td>-1396.101814</td>\n",
              "      <td>-1548.469470</td>\n",
              "      <td>-3780.266249</td>\n",
              "      <td>-2566.183404</td>\n",
              "      <td>-2415.039453</td>\n",
              "      <td>873.169878</td>\n",
              "      <td>24</td>\n",
              "      <td>-699.262955</td>\n",
              "      <td>-811.621551</td>\n",
              "      <td>-827.106090</td>\n",
              "      <td>-898.841647</td>\n",
              "      <td>-717.550342</td>\n",
              "      <td>-790.876517</td>\n",
              "      <td>73.714558</td>\n",
              "    </tr>\n",
              "    <tr>\n",
              "      <th>3</th>\n",
              "      <td>0.004089</td>\n",
              "      <td>0.001595</td>\n",
              "      <td>0.001418</td>\n",
              "      <td>0.000066</td>\n",
              "      <td>0.05</td>\n",
              "      <td>{'alpha': 0.05}</td>\n",
              "      <td>-2640.682659</td>\n",
              "      <td>-1355.068116</td>\n",
              "      <td>-1580.736324</td>\n",
              "      <td>-3300.686592</td>\n",
              "      <td>-2548.346565</td>\n",
              "      <td>-2285.104051</td>\n",
              "      <td>719.477783</td>\n",
              "      <td>23</td>\n",
              "      <td>-713.345673</td>\n",
              "      <td>-812.877044</td>\n",
              "      <td>-817.962405</td>\n",
              "      <td>-886.516756</td>\n",
              "      <td>-711.346429</td>\n",
              "      <td>-788.409662</td>\n",
              "      <td>67.335524</td>\n",
              "    </tr>\n",
              "    <tr>\n",
              "      <th>4</th>\n",
              "      <td>0.003600</td>\n",
              "      <td>0.001559</td>\n",
              "      <td>0.002442</td>\n",
              "      <td>0.001262</td>\n",
              "      <td>0.1</td>\n",
              "      <td>{'alpha': 0.1}</td>\n",
              "      <td>-2563.275484</td>\n",
              "      <td>-1359.228650</td>\n",
              "      <td>-1589.294656</td>\n",
              "      <td>-2966.273419</td>\n",
              "      <td>-2513.340066</td>\n",
              "      <td>-2198.282455</td>\n",
              "      <td>615.981941</td>\n",
              "      <td>22</td>\n",
              "      <td>-721.902772</td>\n",
              "      <td>-815.578758</td>\n",
              "      <td>-811.644501</td>\n",
              "      <td>-878.629933</td>\n",
              "      <td>-708.742470</td>\n",
              "      <td>-787.299687</td>\n",
              "      <td>63.532012</td>\n",
              "    </tr>\n",
              "    <tr>\n",
              "      <th>5</th>\n",
              "      <td>0.002766</td>\n",
              "      <td>0.000131</td>\n",
              "      <td>0.002297</td>\n",
              "      <td>0.001778</td>\n",
              "      <td>0.2</td>\n",
              "      <td>{'alpha': 0.2}</td>\n",
              "      <td>-2490.072301</td>\n",
              "      <td>-1371.185865</td>\n",
              "      <td>-1578.491193</td>\n",
              "      <td>-2646.683912</td>\n",
              "      <td>-2439.501789</td>\n",
              "      <td>-2105.187012</td>\n",
              "      <td>523.314077</td>\n",
              "      <td>21</td>\n",
              "      <td>-729.962299</td>\n",
              "      <td>-822.700256</td>\n",
              "      <td>-813.450068</td>\n",
              "      <td>-873.079812</td>\n",
              "      <td>-711.085989</td>\n",
              "      <td>-790.055685</td>\n",
              "      <td>60.586135</td>\n",
              "    </tr>\n",
              "    <tr>\n",
              "      <th>6</th>\n",
              "      <td>0.002587</td>\n",
              "      <td>0.000100</td>\n",
              "      <td>0.001301</td>\n",
              "      <td>0.000023</td>\n",
              "      <td>0.3</td>\n",
              "      <td>{'alpha': 0.3}</td>\n",
              "      <td>-2458.600342</td>\n",
              "      <td>-1382.244252</td>\n",
              "      <td>-1558.873081</td>\n",
              "      <td>-2564.596961</td>\n",
              "      <td>-2371.684625</td>\n",
              "      <td>-2067.199852</td>\n",
              "      <td>494.139552</td>\n",
              "      <td>20</td>\n",
              "      <td>-735.635381</td>\n",
              "      <td>-827.335227</td>\n",
              "      <td>-814.853280</td>\n",
              "      <td>-874.047965</td>\n",
              "      <td>-719.170711</td>\n",
              "      <td>-794.208513</td>\n",
              "      <td>58.239861</td>\n",
              "    </tr>\n",
              "    <tr>\n",
              "      <th>7</th>\n",
              "      <td>0.004701</td>\n",
              "      <td>0.002490</td>\n",
              "      <td>0.001387</td>\n",
              "      <td>0.000100</td>\n",
              "      <td>0.4</td>\n",
              "      <td>{'alpha': 0.4}</td>\n",
              "      <td>-2441.762009</td>\n",
              "      <td>-1388.581186</td>\n",
              "      <td>-1541.741044</td>\n",
              "      <td>-2527.018501</td>\n",
              "      <td>-2311.276630</td>\n",
              "      <td>-2042.075874</td>\n",
              "      <td>478.492979</td>\n",
              "      <td>19</td>\n",
              "      <td>-739.881190</td>\n",
              "      <td>-830.230928</td>\n",
              "      <td>-817.386698</td>\n",
              "      <td>-876.522382</td>\n",
              "      <td>-725.693312</td>\n",
              "      <td>-797.942902</td>\n",
              "      <td>56.897237</td>\n",
              "    </tr>\n",
              "    <tr>\n",
              "      <th>8</th>\n",
              "      <td>0.002896</td>\n",
              "      <td>0.000491</td>\n",
              "      <td>0.001424</td>\n",
              "      <td>0.000143</td>\n",
              "      <td>0.5</td>\n",
              "      <td>{'alpha': 0.5}</td>\n",
              "      <td>-2430.519324</td>\n",
              "      <td>-1392.287238</td>\n",
              "      <td>-1526.278282</td>\n",
              "      <td>-2485.936683</td>\n",
              "      <td>-2257.508976</td>\n",
              "      <td>-2018.506100</td>\n",
              "      <td>464.716453</td>\n",
              "      <td>18</td>\n",
              "      <td>-743.865881</td>\n",
              "      <td>-833.758285</td>\n",
              "      <td>-822.786430</td>\n",
              "      <td>-879.700461</td>\n",
              "      <td>-731.514777</td>\n",
              "      <td>-802.325167</td>\n",
              "      <td>56.258759</td>\n",
              "    </tr>\n",
              "    <tr>\n",
              "      <th>9</th>\n",
              "      <td>0.002614</td>\n",
              "      <td>0.000043</td>\n",
              "      <td>0.001346</td>\n",
              "      <td>0.000034</td>\n",
              "      <td>0.6</td>\n",
              "      <td>{'alpha': 0.6}</td>\n",
              "      <td>-2422.452861</td>\n",
              "      <td>-1396.280044</td>\n",
              "      <td>-1512.913474</td>\n",
              "      <td>-2443.918123</td>\n",
              "      <td>-2209.418923</td>\n",
              "      <td>-1996.996685</td>\n",
              "      <td>451.900868</td>\n",
              "      <td>17</td>\n",
              "      <td>-747.488592</td>\n",
              "      <td>-836.944684</td>\n",
              "      <td>-830.309287</td>\n",
              "      <td>-883.153595</td>\n",
              "      <td>-737.529788</td>\n",
              "      <td>-807.085189</td>\n",
              "      <td>55.869596</td>\n",
              "    </tr>\n",
              "    <tr>\n",
              "      <th>10</th>\n",
              "      <td>0.002712</td>\n",
              "      <td>0.000103</td>\n",
              "      <td>0.001455</td>\n",
              "      <td>0.000152</td>\n",
              "      <td>0.7</td>\n",
              "      <td>{'alpha': 0.7}</td>\n",
              "      <td>-2416.364561</td>\n",
              "      <td>-1400.656720</td>\n",
              "      <td>-1505.559617</td>\n",
              "      <td>-2401.460573</td>\n",
              "      <td>-2166.153504</td>\n",
              "      <td>-1978.038995</td>\n",
              "      <td>438.955410</td>\n",
              "      <td>16</td>\n",
              "      <td>-751.118800</td>\n",
              "      <td>-839.722866</td>\n",
              "      <td>-837.881520</td>\n",
              "      <td>-887.293933</td>\n",
              "      <td>-744.409382</td>\n",
              "      <td>-812.085300</td>\n",
              "      <td>55.466319</td>\n",
              "    </tr>\n",
              "    <tr>\n",
              "      <th>11</th>\n",
              "      <td>0.004349</td>\n",
              "      <td>0.002158</td>\n",
              "      <td>0.001402</td>\n",
              "      <td>0.000089</td>\n",
              "      <td>0.8</td>\n",
              "      <td>{'alpha': 0.8}</td>\n",
              "      <td>-2411.594129</td>\n",
              "      <td>-1405.520299</td>\n",
              "      <td>-1498.472123</td>\n",
              "      <td>-2358.758226</td>\n",
              "      <td>-2127.004868</td>\n",
              "      <td>-1960.269929</td>\n",
              "      <td>426.917173</td>\n",
              "      <td>14</td>\n",
              "      <td>-754.271996</td>\n",
              "      <td>-844.416161</td>\n",
              "      <td>-845.458459</td>\n",
              "      <td>-891.903021</td>\n",
              "      <td>-750.637590</td>\n",
              "      <td>-817.337445</td>\n",
              "      <td>55.695951</td>\n",
              "    </tr>\n",
              "    <tr>\n",
              "      <th>12</th>\n",
              "      <td>0.004175</td>\n",
              "      <td>0.003065</td>\n",
              "      <td>0.002659</td>\n",
              "      <td>0.002158</td>\n",
              "      <td>0.9</td>\n",
              "      <td>{'alpha': 0.9}</td>\n",
              "      <td>-2407.748040</td>\n",
              "      <td>-1410.492726</td>\n",
              "      <td>-1491.679704</td>\n",
              "      <td>-2316.399920</td>\n",
              "      <td>-2091.393589</td>\n",
              "      <td>-1943.542796</td>\n",
              "      <td>415.858493</td>\n",
              "      <td>13</td>\n",
              "      <td>-757.043771</td>\n",
              "      <td>-850.045186</td>\n",
              "      <td>-852.605854</td>\n",
              "      <td>-896.396208</td>\n",
              "      <td>-757.216664</td>\n",
              "      <td>-822.661537</td>\n",
              "      <td>55.985803</td>\n",
              "    </tr>\n",
              "    <tr>\n",
              "      <th>13</th>\n",
              "      <td>0.002610</td>\n",
              "      <td>0.000141</td>\n",
              "      <td>0.001377</td>\n",
              "      <td>0.000057</td>\n",
              "      <td>1</td>\n",
              "      <td>{'alpha': 1.0}</td>\n",
              "      <td>-2404.577131</td>\n",
              "      <td>-1415.426664</td>\n",
              "      <td>-1485.177747</td>\n",
              "      <td>-2274.739679</td>\n",
              "      <td>-2058.844706</td>\n",
              "      <td>-1927.753185</td>\n",
              "      <td>405.782496</td>\n",
              "      <td>12</td>\n",
              "      <td>-759.503101</td>\n",
              "      <td>-856.009788</td>\n",
              "      <td>-860.830791</td>\n",
              "      <td>-900.567666</td>\n",
              "      <td>-763.344131</td>\n",
              "      <td>-828.051095</td>\n",
              "      <td>56.569725</td>\n",
              "    </tr>\n",
              "    <tr>\n",
              "      <th>14</th>\n",
              "      <td>0.006030</td>\n",
              "      <td>0.002946</td>\n",
              "      <td>0.001473</td>\n",
              "      <td>0.000141</td>\n",
              "      <td>2</td>\n",
              "      <td>{'alpha': 2.0}</td>\n",
              "      <td>-2412.077805</td>\n",
              "      <td>-1441.778293</td>\n",
              "      <td>-1485.755386</td>\n",
              "      <td>-2079.943612</td>\n",
              "      <td>-1872.459405</td>\n",
              "      <td>-1858.402900</td>\n",
              "      <td>365.588841</td>\n",
              "      <td>10</td>\n",
              "      <td>-782.863866</td>\n",
              "      <td>-909.853639</td>\n",
              "      <td>-926.631424</td>\n",
              "      <td>-936.195508</td>\n",
              "      <td>-808.328500</td>\n",
              "      <td>-872.774588</td>\n",
              "      <td>64.085668</td>\n",
              "    </tr>\n",
              "    <tr>\n",
              "      <th>15</th>\n",
              "      <td>0.003134</td>\n",
              "      <td>0.000862</td>\n",
              "      <td>0.002777</td>\n",
              "      <td>0.002753</td>\n",
              "      <td>3</td>\n",
              "      <td>{'alpha': 3.0}</td>\n",
              "      <td>-2454.598244</td>\n",
              "      <td>-1463.392726</td>\n",
              "      <td>-1485.278904</td>\n",
              "      <td>-1957.821225</td>\n",
              "      <td>-1787.318178</td>\n",
              "      <td>-1829.681856</td>\n",
              "      <td>363.735066</td>\n",
              "      <td>9</td>\n",
              "      <td>-809.442769</td>\n",
              "      <td>-949.724054</td>\n",
              "      <td>-971.748172</td>\n",
              "      <td>-967.862815</td>\n",
              "      <td>-843.476933</td>\n",
              "      <td>-908.450949</td>\n",
              "      <td>68.211465</td>\n",
              "    </tr>\n",
              "    <tr>\n",
              "      <th>16</th>\n",
              "      <td>0.004035</td>\n",
              "      <td>0.002841</td>\n",
              "      <td>0.001346</td>\n",
              "      <td>0.000037</td>\n",
              "      <td>4</td>\n",
              "      <td>{'alpha': 4.0}</td>\n",
              "      <td>-2486.869775</td>\n",
              "      <td>-1475.611903</td>\n",
              "      <td>-1480.333967</td>\n",
              "      <td>-1868.710227</td>\n",
              "      <td>-1742.931443</td>\n",
              "      <td>-1810.891463</td>\n",
              "      <td>370.564136</td>\n",
              "      <td>8</td>\n",
              "      <td>-831.526500</td>\n",
              "      <td>-982.660252</td>\n",
              "      <td>-1006.061492</td>\n",
              "      <td>-998.245997</td>\n",
              "      <td>-870.882280</td>\n",
              "      <td>-937.875304</td>\n",
              "      <td>72.246525</td>\n",
              "    </tr>\n",
              "    <tr>\n",
              "      <th>17</th>\n",
              "      <td>0.002891</td>\n",
              "      <td>0.000362</td>\n",
              "      <td>0.001573</td>\n",
              "      <td>0.000361</td>\n",
              "      <td>5</td>\n",
              "      <td>{'alpha': 5.0}</td>\n",
              "      <td>-2512.142869</td>\n",
              "      <td>-1487.839147</td>\n",
              "      <td>-1481.129266</td>\n",
              "      <td>-1800.210873</td>\n",
              "      <td>-1717.442625</td>\n",
              "      <td>-1799.752956</td>\n",
              "      <td>377.646890</td>\n",
              "      <td>7</td>\n",
              "      <td>-849.533474</td>\n",
              "      <td>-1009.656523</td>\n",
              "      <td>-1032.905623</td>\n",
              "      <td>-1025.996562</td>\n",
              "      <td>-894.766571</td>\n",
              "      <td>-962.571751</td>\n",
              "      <td>75.580064</td>\n",
              "    </tr>\n",
              "    <tr>\n",
              "      <th>18</th>\n",
              "      <td>0.002678</td>\n",
              "      <td>0.000167</td>\n",
              "      <td>0.001345</td>\n",
              "      <td>0.000029</td>\n",
              "      <td>6</td>\n",
              "      <td>{'alpha': 6.0}</td>\n",
              "      <td>-2532.407927</td>\n",
              "      <td>-1496.843433</td>\n",
              "      <td>-1491.245014</td>\n",
              "      <td>-1750.539518</td>\n",
              "      <td>-1700.450035</td>\n",
              "      <td>-1794.297185</td>\n",
              "      <td>383.627121</td>\n",
              "      <td>5</td>\n",
              "      <td>-865.350540</td>\n",
              "      <td>-1033.775340</td>\n",
              "      <td>-1054.942488</td>\n",
              "      <td>-1049.279143</td>\n",
              "      <td>-917.303077</td>\n",
              "      <td>-984.130118</td>\n",
              "      <td>77.843274</td>\n",
              "    </tr>\n",
              "    <tr>\n",
              "      <th>19</th>\n",
              "      <td>0.002544</td>\n",
              "      <td>0.000064</td>\n",
              "      <td>0.001308</td>\n",
              "      <td>0.000015</td>\n",
              "      <td>7</td>\n",
              "      <td>{'alpha': 7.0}</td>\n",
              "      <td>-2548.908149</td>\n",
              "      <td>-1503.518234</td>\n",
              "      <td>-1501.738462</td>\n",
              "      <td>-1705.148213</td>\n",
              "      <td>-1695.135303</td>\n",
              "      <td>-1790.889672</td>\n",
              "      <td>389.179464</td>\n",
              "      <td>4</td>\n",
              "      <td>-880.147747</td>\n",
              "      <td>-1056.773496</td>\n",
              "      <td>-1074.694266</td>\n",
              "      <td>-1068.885585</td>\n",
              "      <td>-938.769943</td>\n",
              "      <td>-1003.854207</td>\n",
              "      <td>79.482193</td>\n",
              "    </tr>\n",
              "    <tr>\n",
              "      <th>20</th>\n",
              "      <td>0.002888</td>\n",
              "      <td>0.000341</td>\n",
              "      <td>0.001681</td>\n",
              "      <td>0.000391</td>\n",
              "      <td>8</td>\n",
              "      <td>{'alpha': 8.0}</td>\n",
              "      <td>-2562.481393</td>\n",
              "      <td>-1508.592369</td>\n",
              "      <td>-1510.175727</td>\n",
              "      <td>-1663.488206</td>\n",
              "      <td>-1698.910307</td>\n",
              "      <td>-1788.729600</td>\n",
              "      <td>394.591910</td>\n",
              "      <td>3</td>\n",
              "      <td>-893.549619</td>\n",
              "      <td>-1076.823468</td>\n",
              "      <td>-1093.107520</td>\n",
              "      <td>-1085.728211</td>\n",
              "      <td>-958.139296</td>\n",
              "      <td>-1021.469623</td>\n",
              "      <td>80.869599</td>\n",
              "    </tr>\n",
              "    <tr>\n",
              "      <th>21</th>\n",
              "      <td>0.002811</td>\n",
              "      <td>0.000248</td>\n",
              "      <td>0.001388</td>\n",
              "      <td>0.000082</td>\n",
              "      <td>9</td>\n",
              "      <td>{'alpha': 9.0}</td>\n",
              "      <td>-2573.722590</td>\n",
              "      <td>-1512.512772</td>\n",
              "      <td>-1517.201010</td>\n",
              "      <td>-1625.076788</td>\n",
              "      <td>-1702.649410</td>\n",
              "      <td>-1786.232514</td>\n",
              "      <td>400.099580</td>\n",
              "      <td>2</td>\n",
              "      <td>-905.425969</td>\n",
              "      <td>-1094.706435</td>\n",
              "      <td>-1110.096338</td>\n",
              "      <td>-1100.418837</td>\n",
              "      <td>-976.236787</td>\n",
              "      <td>-1037.376873</td>\n",
              "      <td>82.095359</td>\n",
              "    </tr>\n",
              "    <tr>\n",
              "      <th>22</th>\n",
              "      <td>0.002953</td>\n",
              "      <td>0.000443</td>\n",
              "      <td>0.001465</td>\n",
              "      <td>0.000224</td>\n",
              "      <td>10</td>\n",
              "      <td>{'alpha': 10.0}</td>\n",
              "      <td>-2583.070499</td>\n",
              "      <td>-1515.569212</td>\n",
              "      <td>-1523.214992</td>\n",
              "      <td>-1589.505613</td>\n",
              "      <td>-1710.873320</td>\n",
              "      <td>-1784.446727</td>\n",
              "      <td>405.401567</td>\n",
              "      <td>1</td>\n",
              "      <td>-916.171567</td>\n",
              "      <td>-1111.123023</td>\n",
              "      <td>-1124.972051</td>\n",
              "      <td>-1113.387346</td>\n",
              "      <td>-994.120098</td>\n",
              "      <td>-1051.954817</td>\n",
              "      <td>82.931652</td>\n",
              "    </tr>\n",
              "    <tr>\n",
              "      <th>23</th>\n",
              "      <td>0.002577</td>\n",
              "      <td>0.000058</td>\n",
              "      <td>0.001352</td>\n",
              "      <td>0.000026</td>\n",
              "      <td>20</td>\n",
              "      <td>{'alpha': 20}</td>\n",
              "      <td>-2620.451609</td>\n",
              "      <td>-1524.009423</td>\n",
              "      <td>-1563.774501</td>\n",
              "      <td>-1511.136816</td>\n",
              "      <td>-1777.004677</td>\n",
              "      <td>-1799.275405</td>\n",
              "      <td>421.682873</td>\n",
              "      <td>6</td>\n",
              "      <td>-989.008813</td>\n",
              "      <td>-1237.077887</td>\n",
              "      <td>-1214.819396</td>\n",
              "      <td>-1213.096731</td>\n",
              "      <td>-1117.208442</td>\n",
              "      <td>-1154.242254</td>\n",
              "      <td>92.378325</td>\n",
              "    </tr>\n",
              "    <tr>\n",
              "      <th>24</th>\n",
              "      <td>0.002696</td>\n",
              "      <td>0.000143</td>\n",
              "      <td>0.001353</td>\n",
              "      <td>0.000008</td>\n",
              "      <td>50</td>\n",
              "      <td>{'alpha': 50}</td>\n",
              "      <td>-2599.457349</td>\n",
              "      <td>-1530.403037</td>\n",
              "      <td>-1667.878938</td>\n",
              "      <td>-1687.428430</td>\n",
              "      <td>-1840.404343</td>\n",
              "      <td>-1865.114420</td>\n",
              "      <td>380.098930</td>\n",
              "      <td>11</td>\n",
              "      <td>-1146.131477</td>\n",
              "      <td>-1415.309250</td>\n",
              "      <td>-1347.043350</td>\n",
              "      <td>-1376.757248</td>\n",
              "      <td>-1296.304628</td>\n",
              "      <td>-1316.309191</td>\n",
              "      <td>93.552343</td>\n",
              "    </tr>\n",
              "    <tr>\n",
              "      <th>25</th>\n",
              "      <td>0.002888</td>\n",
              "      <td>0.000304</td>\n",
              "      <td>0.001514</td>\n",
              "      <td>0.000310</td>\n",
              "      <td>100</td>\n",
              "      <td>{'alpha': 100}</td>\n",
              "      <td>-2592.805542</td>\n",
              "      <td>-1550.792194</td>\n",
              "      <td>-1759.247779</td>\n",
              "      <td>-2001.736416</td>\n",
              "      <td>-1899.347818</td>\n",
              "      <td>-1960.785950</td>\n",
              "      <td>350.317817</td>\n",
              "      <td>15</td>\n",
              "      <td>-1320.123075</td>\n",
              "      <td>-1587.575124</td>\n",
              "      <td>-1509.719666</td>\n",
              "      <td>-1515.714272</td>\n",
              "      <td>-1474.739204</td>\n",
              "      <td>-1481.574268</td>\n",
              "      <td>88.664639</td>\n",
              "    </tr>\n",
              "    <tr>\n",
              "      <th>26</th>\n",
              "      <td>0.002722</td>\n",
              "      <td>0.000212</td>\n",
              "      <td>0.001447</td>\n",
              "      <td>0.000142</td>\n",
              "      <td>500</td>\n",
              "      <td>{'alpha': 500}</td>\n",
              "      <td>-3115.376378</td>\n",
              "      <td>-2051.130816</td>\n",
              "      <td>-2399.119603</td>\n",
              "      <td>-3423.755527</td>\n",
              "      <td>-2566.997849</td>\n",
              "      <td>-2711.276035</td>\n",
              "      <td>494.969425</td>\n",
              "      <td>27</td>\n",
              "      <td>-2137.389328</td>\n",
              "      <td>-2461.427921</td>\n",
              "      <td>-2392.683516</td>\n",
              "      <td>-2237.668302</td>\n",
              "      <td>-2270.167290</td>\n",
              "      <td>-2299.867272</td>\n",
              "      <td>114.775068</td>\n",
              "    </tr>\n",
              "    <tr>\n",
              "      <th>27</th>\n",
              "      <td>0.002401</td>\n",
              "      <td>0.000408</td>\n",
              "      <td>0.001179</td>\n",
              "      <td>0.000218</td>\n",
              "      <td>1000</td>\n",
              "      <td>{'alpha': 1000}</td>\n",
              "      <td>-3566.326227</td>\n",
              "      <td>-2744.270303</td>\n",
              "      <td>-3046.148162</td>\n",
              "      <td>-4366.710790</td>\n",
              "      <td>-3136.629110</td>\n",
              "      <td>-3372.016918</td>\n",
              "      <td>562.642993</td>\n",
              "      <td>28</td>\n",
              "      <td>-2864.015188</td>\n",
              "      <td>-3198.868050</td>\n",
              "      <td>-3149.958128</td>\n",
              "      <td>-2840.584455</td>\n",
              "      <td>-2985.108127</td>\n",
              "      <td>-3007.706790</td>\n",
              "      <td>145.510083</td>\n",
              "    </tr>\n",
              "  </tbody>\n",
              "</table>\n",
              "</div>"
            ],
            "text/plain": [
              "    mean_fit_time  std_fit_time  ...  mean_train_score  std_train_score\n",
              "0        0.003486      0.000907  ...       -793.046184        76.452403\n",
              "1        0.002939      0.000035  ...       -792.778547        76.185169\n",
              "2        0.003035      0.000333  ...       -790.876517        73.714558\n",
              "3        0.004089      0.001595  ...       -788.409662        67.335524\n",
              "4        0.003600      0.001559  ...       -787.299687        63.532012\n",
              "5        0.002766      0.000131  ...       -790.055685        60.586135\n",
              "6        0.002587      0.000100  ...       -794.208513        58.239861\n",
              "7        0.004701      0.002490  ...       -797.942902        56.897237\n",
              "8        0.002896      0.000491  ...       -802.325167        56.258759\n",
              "9        0.002614      0.000043  ...       -807.085189        55.869596\n",
              "10       0.002712      0.000103  ...       -812.085300        55.466319\n",
              "11       0.004349      0.002158  ...       -817.337445        55.695951\n",
              "12       0.004175      0.003065  ...       -822.661537        55.985803\n",
              "13       0.002610      0.000141  ...       -828.051095        56.569725\n",
              "14       0.006030      0.002946  ...       -872.774588        64.085668\n",
              "15       0.003134      0.000862  ...       -908.450949        68.211465\n",
              "16       0.004035      0.002841  ...       -937.875304        72.246525\n",
              "17       0.002891      0.000362  ...       -962.571751        75.580064\n",
              "18       0.002678      0.000167  ...       -984.130118        77.843274\n",
              "19       0.002544      0.000064  ...      -1003.854207        79.482193\n",
              "20       0.002888      0.000341  ...      -1021.469623        80.869599\n",
              "21       0.002811      0.000248  ...      -1037.376873        82.095359\n",
              "22       0.002953      0.000443  ...      -1051.954817        82.931652\n",
              "23       0.002577      0.000058  ...      -1154.242254        92.378325\n",
              "24       0.002696      0.000143  ...      -1316.309191        93.552343\n",
              "25       0.002888      0.000304  ...      -1481.574268        88.664639\n",
              "26       0.002722      0.000212  ...      -2299.867272       114.775068\n",
              "27       0.002401      0.000408  ...      -3007.706790       145.510083\n",
              "\n",
              "[28 rows x 21 columns]"
            ]
          },
          "metadata": {
            "tags": []
          },
          "execution_count": 49
        }
      ]
    },
    {
      "cell_type": "code",
      "metadata": {
        "id": "PPF8VV3y0W89"
      },
      "source": [
        "ridge_best = grid_search.best_estimator_"
      ],
      "execution_count": 52,
      "outputs": []
    },
    {
      "cell_type": "code",
      "metadata": {
        "colab": {
          "base_uri": "https://localhost:8080/"
        },
        "id": "OFbs9HcM0sND",
        "outputId": "2c3c8e61-391e-477d-f20b-8ca3227bd8cc"
      },
      "source": [
        "grid_search.best_score_"
      ],
      "execution_count": 51,
      "outputs": [
        {
          "output_type": "execute_result",
          "data": {
            "text/plain": [
              "-1784.4467272334211"
            ]
          },
          "metadata": {
            "tags": []
          },
          "execution_count": 51
        }
      ]
    },
    {
      "cell_type": "code",
      "metadata": {
        "colab": {
          "base_uri": "https://localhost:8080/"
        },
        "id": "xblFKFNs061j",
        "outputId": "10ebde66-0c53-4df1-c4d9-b0c35babb07b"
      },
      "source": [
        "ridge_best.fit(X_train,y_train)"
      ],
      "execution_count": 53,
      "outputs": [
        {
          "output_type": "execute_result",
          "data": {
            "text/plain": [
              "Ridge(alpha=10.0, copy_X=True, fit_intercept=True, max_iter=None,\n",
              "      normalize=False, random_state=None, solver='auto', tol=0.001)"
            ]
          },
          "metadata": {
            "tags": []
          },
          "execution_count": 53
        }
      ]
    },
    {
      "cell_type": "code",
      "metadata": {
        "colab": {
          "base_uri": "https://localhost:8080/"
        },
        "id": "huMN4q3Q2Uho",
        "outputId": "7f2f0dd5-99f0-4c70-da93-4b9d9dc09ade"
      },
      "source": [
        "ridge_best.coef_"
      ],
      "execution_count": 54,
      "outputs": [
        {
          "output_type": "execute_result",
          "data": {
            "text/plain": [
              "array([ 3.66439600e+02, -3.84733269e+01,  1.48385910e+03, -4.28871390e+02,\n",
              "        1.32508938e+03,  1.53232524e+03, -1.32353686e+02, -3.43961178e+02,\n",
              "       -3.85991151e+01,  1.00274451e+03,  4.08530524e+02,  3.06226713e+01,\n",
              "       -3.86573031e+01,  2.80260386e+02,  2.25689703e+02,  1.15232435e+02,\n",
              "        3.11172714e+01,  2.20999290e+02, -2.36604555e+02,  4.37146732e+02,\n",
              "        8.11201095e+01, -4.17761691e+01, -6.36303725e+02, -3.89525755e+02,\n",
              "       -2.67865922e+02, -2.25694801e+02,  2.17304590e+02,  1.01331104e+03,\n",
              "       -7.99719800e+01, -2.11299602e+02,  3.80633116e+02,  5.02569921e+01,\n",
              "       -2.68490049e+01,  1.31276809e+02, -5.38964122e+02, -5.61768987e+02,\n",
              "       -2.24243763e+02,  3.30958997e+02, -3.41292337e+02,  1.31276809e+02,\n",
              "        9.03941997e+01, -1.92932138e+02,  2.36604555e+02, -3.32698957e-28,\n",
              "       -6.35149689e+01, -1.25417650e+02, -3.32698957e-28,  3.66335476e+02,\n",
              "        1.54082286e+03,  1.04052995e+03, -1.83880719e+02, -4.32144537e+02,\n",
              "       -3.65503794e+02, -6.64424355e+01,  8.30476815e+02, -2.68159702e+02,\n",
              "       -3.32698957e-28, -7.10103895e+02, -4.24309992e+02, -3.22453130e+02,\n",
              "       -3.35256307e+02,  5.94116597e+02, -2.27221245e+02,  2.12510138e+02,\n",
              "       -4.62583518e+02, -5.92202827e+02, -1.24467623e+02,  1.72803694e+00])"
            ]
          },
          "metadata": {
            "tags": []
          },
          "execution_count": 54
        }
      ]
    },
    {
      "cell_type": "code",
      "metadata": {
        "id": "j4So9d_N2d_u"
      },
      "source": [
        "y_train_pred = ridge_best.predict(X_train)\r\n",
        "y_test_pred = ridge_best.predict(X_test)"
      ],
      "execution_count": 55,
      "outputs": []
    },
    {
      "cell_type": "code",
      "metadata": {
        "colab": {
          "base_uri": "https://localhost:8080/",
          "height": 296
        },
        "id": "9gZB6ou620O4",
        "outputId": "f7c1a89d-31b5-4c00-ef17-562820df3de6"
      },
      "source": [
        "sns.distplot(y_train-y_train_pred)"
      ],
      "execution_count": 58,
      "outputs": [
        {
          "output_type": "execute_result",
          "data": {
            "text/plain": [
              "<matplotlib.axes._subplots.AxesSubplot at 0x7fedaf00b8d0>"
            ]
          },
          "metadata": {
            "tags": []
          },
          "execution_count": 58
        },
        {
          "output_type": "display_data",
          "data": {
            "image/png": "[encoded data removed]",
            "text/plain": [
              "<Figure size 432x288 with 1 Axes>"
            ]
          },
          "metadata": {
            "tags": [],
            "needs_background": "light"
          }
        }
      ]
    },
    {
      "cell_type": "code",
      "metadata": {
        "colab": {
          "base_uri": "https://localhost:8080/",
          "height": 282
        },
        "id": "1zTNASUp26QW",
        "outputId": "bdc4fe6c-7795-44fc-c828-4a711a24d3f5"
      },
      "source": [
        "sns.scatterplot(y_train_pred,(y_train-y_train_pred))\r\n",
        "plt.axhline(y=0,color = 'red')"
      ],
      "execution_count": 57,
      "outputs": [
        {
          "output_type": "execute_result",
          "data": {
            "text/plain": [
              "<matplotlib.lines.Line2D at 0x7feda565fbe0>"
            ]
          },
          "metadata": {
            "tags": []
          },
          "execution_count": 57
        },
        {
          "output_type": "display_data",
          "data": {
            "image/png": "[encoded data removed]",
            "text/plain": [
              "<Figure size 432x288 with 1 Axes>"
            ]
          },
          "metadata": {
            "tags": [],
            "needs_background": "light"
          }
        }
      ]
    },
    {
      "cell_type": "code",
      "metadata": {
        "id": "NZwE4WFY3O2J"
      },
      "source": [
        ""
      ],
      "execution_count": null,
      "outputs": []
    },
    {
      "cell_type": "code",
      "metadata": {
        "colab": {
          "base_uri": "https://localhost:8080/"
        },
        "id": "IabrA3KV3eID",
        "outputId": "01c14b82-2764-4f7a-858e-11ea84af07da"
      },
      "source": [
        "print(r2_score(y_train,y_train_pred))\r\n",
        "print(r2_score(y_test,y_test_pred))"
      ],
      "execution_count": 59,
      "outputs": [
        {
          "output_type": "stream",
          "text": [
            "0.9588720781564704\n",
            "0.9224482262406616\n"
          ],
          "name": "stdout"
        }
      ]
    },
    {
      "cell_type": "code",
      "metadata": {
        "colab": {
          "base_uri": "https://localhost:8080/"
        },
        "id": "952e8OJN3eIa",
        "outputId": "1c862344-9bd4-4d20-d831-22267af6cc47"
      },
      "source": [
        "rss  = np.sum(np.square(residuals))\r\n",
        "rss"
      ],
      "execution_count": 60,
      "outputs": [
        {
          "output_type": "execute_result",
          "data": {
            "text/plain": [
              "210406502.35365197"
            ]
          },
          "metadata": {
            "tags": []
          },
          "execution_count": 60
        }
      ]
    },
    {
      "cell_type": "code",
      "metadata": {
        "colab": {
          "base_uri": "https://localhost:8080/"
        },
        "id": "bKaq_ceW3eIc",
        "outputId": "7911f82c-4df0-415f-ac4b-5dffec449291"
      },
      "source": [
        "rss  = np.sum(np.square(y_test-y_test_pred))\r\n",
        "rss"
      ],
      "execution_count": 61,
      "outputs": [
        {
          "output_type": "execute_result",
          "data": {
            "text/plain": [
              "336714599.95935196"
            ]
          },
          "metadata": {
            "tags": []
          },
          "execution_count": 61
        }
      ]
    },
    {
      "cell_type": "code",
      "metadata": {
        "colab": {
          "base_uri": "https://localhost:8080/"
        },
        "id": "wolLHPA33eId",
        "outputId": "294a23d3-e44c-496a-f310-08556781407e"
      },
      "source": [
        "print(mean_squared_error(y_train,y_train_pred))\r\n",
        "print(mean_squared_error(y_test,y_test_pred))"
      ],
      "execution_count": 62,
      "outputs": [
        {
          "output_type": "stream",
          "text": [
            "2489209.9870474776\n",
            "5430880.644505677\n"
          ],
          "name": "stdout"
        }
      ]
    },
    {
      "cell_type": "markdown",
      "metadata": {
        "id": "l-rN4qjk3meH"
      },
      "source": [
        "# Lasso"
      ]
    },
    {
      "cell_type": "code",
      "metadata": {
        "colab": {
          "base_uri": "https://localhost:8080/"
        },
        "id": "IU59GO7R3i99",
        "outputId": "f5d342ef-04bd-4be2-8e90-39c01a104de3"
      },
      "source": [
        "lasso = Lasso()\r\n",
        "\r\n",
        "params = {'alpha': [0.0001, 0.001, 0.01, 0.05, 0.1, \r\n",
        " 0.2, 0.3, 0.4, 0.5, 0.6, 0.7, 0.8, 0.9, 1.0, 2.0, 3.0, \r\n",
        " 4.0, 5.0, 6.0, 7.0, 8.0, 9.0, 10.0, 20, 50, 100, 500, 1000 ]}\r\n",
        "\r\n",
        "grid_search = GridSearchCV(estimator=lasso,\r\n",
        "                            param_grid = params,\r\n",
        "                            scoring = 'neg_mean_absolute_error'\r\n",
        "                            , cv = 5\r\n",
        "                            , verbose=1\r\n",
        "                            , n_jobs = -1\r\n",
        "                            , return_train_score = True)\r\n",
        "grid_search.fit(X_train,y_train)"
      ],
      "execution_count": 64,
      "outputs": [
        {
          "output_type": "stream",
          "text": [
            "Fitting 5 folds for each of 28 candidates, totalling 140 fits\n"
          ],
          "name": "stdout"
        },
        {
          "output_type": "stream",
          "text": [
            "[Parallel(n_jobs=-1)]: Using backend LokyBackend with 2 concurrent workers.\n",
            "[Parallel(n_jobs=-1)]: Done 140 out of 140 | elapsed:    2.4s finished\n"
          ],
          "name": "stderr"
        },
        {
          "output_type": "execute_result",
          "data": {
            "text/plain": [
              "GridSearchCV(cv=5, error_score=nan,\n",
              "             estimator=Lasso(alpha=1.0, copy_X=True, fit_intercept=True,\n",
              "                             max_iter=1000, normalize=False, positive=False,\n",
              "                             precompute=False, random_state=None,\n",
              "                             selection='cyclic', tol=0.0001, warm_start=False),\n",
              "             iid='deprecated', n_jobs=-1,\n",
              "             param_grid={'alpha': [0.0001, 0.001, 0.01, 0.05, 0.1, 0.2, 0.3,\n",
              "                                   0.4, 0.5, 0.6, 0.7, 0.8, 0.9, 1.0, 2.0, 3.0,\n",
              "                                   4.0, 5.0, 6.0, 7.0, 8.0, 9.0, 10.0, 20, 50,\n",
              "                                   100, 500, 1000]},\n",
              "             pre_dispatch='2*n_jobs', refit=True, return_train_score=True,\n",
              "             scoring='neg_mean_absolute_error', verbose=1)"
            ]
          },
          "metadata": {
            "tags": []
          },
          "execution_count": 64
        }
      ]
    },
    {
      "cell_type": "code",
      "metadata": {
        "id": "GPLwuI1C3quV"
      },
      "source": [
        "lasso_best = grid_search.best_estimator_"
      ],
      "execution_count": 66,
      "outputs": []
    },
    {
      "cell_type": "code",
      "metadata": {
        "colab": {
          "base_uri": "https://localhost:8080/"
        },
        "id": "LEBM73II4eqv",
        "outputId": "50aae6aa-d935-4a20-f5e7-bdae34d33519"
      },
      "source": [
        "lasso_best.fit(X_train,y_train)"
      ],
      "execution_count": 67,
      "outputs": [
        {
          "output_type": "execute_result",
          "data": {
            "text/plain": [
              "Lasso(alpha=100, copy_X=True, fit_intercept=True, max_iter=1000,\n",
              "      normalize=False, positive=False, precompute=False, random_state=None,\n",
              "      selection='cyclic', tol=0.0001, warm_start=False)"
            ]
          },
          "metadata": {
            "tags": []
          },
          "execution_count": 67
        }
      ]
    },
    {
      "cell_type": "code",
      "metadata": {
        "colab": {
          "base_uri": "https://localhost:8080/"
        },
        "id": "Ya8VVSKp4lvU",
        "outputId": "70765d0e-47d9-429f-d8af-06b5fcdd72df"
      },
      "source": [
        "lasso_best.coef_"
      ],
      "execution_count": 69,
      "outputs": [
        {
          "output_type": "execute_result",
          "data": {
            "text/plain": [
              "array([   0.        ,   -0.        , 1747.1052243 ,  -82.23183774,\n",
              "       1780.64173078,  788.28807799,   -0.        ,   -0.        ,\n",
              "          0.        , 1017.48820119,   84.89633333,    0.        ,\n",
              "         -0.        ,    0.        ,   -0.        ,   -0.        ,\n",
              "          0.        ,  246.519852  ,  -73.38572878,  120.56790634,\n",
              "          0.        ,    0.        , -187.60748943,    0.        ,\n",
              "        -96.25412649, -134.39227325,  294.27227486, 1218.02281069,\n",
              "          0.        ,   -0.        ,    0.        ,   -0.        ,\n",
              "         -0.        ,    0.        ,   -0.        , -202.47407284,\n",
              "         -0.        ,  197.70712322,   -0.        ,    0.        ,\n",
              "         -0.        ,   -0.        ,   58.81424436,   -0.        ,\n",
              "          0.        ,   -0.        ,   -0.        ,  186.35685239,\n",
              "       1805.30123983, 1210.72936345,    0.        ,   -0.        ,\n",
              "         -0.        ,   78.54297249,  796.29612837,    0.        ,\n",
              "         -0.        , -397.80411254,  -58.198149  , -377.78256238,\n",
              "         -0.        ,  592.06274204, -163.73847377,   95.37139425,\n",
              "       -198.09298955, -233.82794826,    0.        ,  206.40038676])"
            ]
          },
          "metadata": {
            "tags": []
          },
          "execution_count": 69
        }
      ]
    },
    {
      "cell_type": "code",
      "metadata": {
        "id": "jAD-YE8q4rg5"
      },
      "source": [
        ""
      ],
      "execution_count": null,
      "outputs": []
    },
    {
      "cell_type": "code",
      "metadata": {
        "id": "8SiDgoJB44CQ"
      },
      "source": [
        "y_train_pred = lasso_best.predict(X_train)\r\n",
        "y_test_pred = lasso_best.predict(X_test)"
      ],
      "execution_count": 72,
      "outputs": []
    },
    {
      "cell_type": "code",
      "metadata": {
        "colab": {
          "base_uri": "https://localhost:8080/",
          "height": 296
        },
        "id": "gh6zVDRM44Cb",
        "outputId": "36e448c6-e4f4-42c3-9e6a-f4b290c023ad"
      },
      "source": [
        "sns.distplot(y_train-y_train_pred)"
      ],
      "execution_count": 73,
      "outputs": [
        {
          "output_type": "execute_result",
          "data": {
            "text/plain": [
              "<matplotlib.axes._subplots.AxesSubplot at 0x7fed9f90b208>"
            ]
          },
          "metadata": {
            "tags": []
          },
          "execution_count": 73
        },
        {
          "output_type": "display_data",
          "data": {
            "image/png": "[encoded data removed]",
            "text/plain": [
              "<Figure size 432x288 with 1 Axes>"
            ]
          },
          "metadata": {
            "tags": [],
            "needs_background": "light"
          }
        }
      ]
    },
    {
      "cell_type": "code",
      "metadata": {
        "colab": {
          "base_uri": "https://localhost:8080/",
          "height": 282
        },
        "id": "2wSLFFt844Cc",
        "outputId": "9f835942-09e3-4e6a-d654-35567583dfb7"
      },
      "source": [
        "sns.scatterplot(y_train_pred,(y_train-y_train_pred))\r\n",
        "plt.axhline(y=0,color = 'red')"
      ],
      "execution_count": 74,
      "outputs": [
        {
          "output_type": "execute_result",
          "data": {
            "text/plain": [
              "<matplotlib.lines.Line2D at 0x7fed9f894d30>"
            ]
          },
          "metadata": {
            "tags": []
          },
          "execution_count": 74
        },
        {
          "output_type": "display_data",
          "data": {
            "image/png": "[encoded data removed]",
            "text/plain": [
              "<Figure size 432x288 with 1 Axes>"
            ]
          },
          "metadata": {
            "tags": [],
            "needs_background": "light"
          }
        }
      ]
    },
    {
      "cell_type": "code",
      "metadata": {
        "id": "mWToYQ2x44Cc"
      },
      "source": [
        ""
      ],
      "execution_count": null,
      "outputs": []
    },
    {
      "cell_type": "code",
      "metadata": {
        "colab": {
          "base_uri": "https://localhost:8080/"
        },
        "id": "cHR02Wqj44Cc",
        "outputId": "374d7f8d-e009-466e-d873-63079c77f98d"
      },
      "source": [
        "print(r2_score(y_train,y_train_pred))\r\n",
        "print(r2_score(y_test,y_test_pred))"
      ],
      "execution_count": 75,
      "outputs": [
        {
          "output_type": "stream",
          "text": [
            "0.9464707035896383\n",
            "0.9111235629694682\n"
          ],
          "name": "stdout"
        }
      ]
    },
    {
      "cell_type": "code",
      "metadata": {
        "colab": {
          "base_uri": "https://localhost:8080/"
        },
        "id": "T_dJapVe44Cd",
        "outputId": "7008d3c1-c83b-42d1-b98e-5d7ff67cb091"
      },
      "source": [
        "rss  = np.sum(np.square(residuals))\r\n",
        "rss"
      ],
      "execution_count": 76,
      "outputs": [
        {
          "output_type": "execute_result",
          "data": {
            "text/plain": [
              "210406502.35365197"
            ]
          },
          "metadata": {
            "tags": []
          },
          "execution_count": 76
        }
      ]
    },
    {
      "cell_type": "code",
      "metadata": {
        "colab": {
          "base_uri": "https://localhost:8080/"
        },
        "id": "eHSLQC1644Cd",
        "outputId": "e462f7e9-ad70-46ce-adc6-17bd2e837b44"
      },
      "source": [
        "rss  = np.sum(np.square(y_test-y_test_pred))\r\n",
        "rss"
      ],
      "execution_count": 77,
      "outputs": [
        {
          "output_type": "execute_result",
          "data": {
            "text/plain": [
              "385884068.02164835"
            ]
          },
          "metadata": {
            "tags": []
          },
          "execution_count": 77
        }
      ]
    },
    {
      "cell_type": "code",
      "metadata": {
        "colab": {
          "base_uri": "https://localhost:8080/"
        },
        "id": "j3seTtGw44Ce",
        "outputId": "06bcef03-9ca8-4b71-ca89-8a501cdbc17e"
      },
      "source": [
        "print(mean_squared_error(y_train,y_train_pred))\r\n",
        "print(mean_squared_error(y_test,y_test_pred))"
      ],
      "execution_count": 78,
      "outputs": [
        {
          "output_type": "stream",
          "text": [
            "3239785.8498960277\n",
            "6223936.5809943285\n"
          ],
          "name": "stdout"
        }
      ]
    },
    {
      "cell_type": "code",
      "metadata": {
        "id": "yyBL-X0j5E7h"
      },
      "source": [
        ""
      ],
      "execution_count": null,
      "outputs": []
    }
  ]
}